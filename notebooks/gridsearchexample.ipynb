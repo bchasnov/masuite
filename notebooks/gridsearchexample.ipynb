{
 "cells": [
  {
   "cell_type": "code",
   "execution_count": 1,
   "source": [
    "from masuite.agents.pytorch.policy_gradient.agent import PGAgent\n",
    "from masuite.algos.pytorch.simplepg.simplepg import SimplePG\n",
    "from masuite.algos.utils import run\n",
    "from masuite.utils.gridsearch import GridSearch"
   ],
   "outputs": [],
   "metadata": {}
  },
  {
   "cell_type": "code",
   "execution_count": 2,
   "source": [
    "param_grid = dict(\n",
    "    lr=[1e-1, 1e-2, 1e-3, 1e-4],\n",
    "    batch_size=[100, 500, 1000, 5000],\n",
    "    epochs=[50, 100, 500]\n",
    ")\n",
    "searcher = GridSearch(\"smallsoccer/0\", PGAgent, SimplePG, run.run_pg_experiment, param_grid, None)"
   ],
   "outputs": [],
   "metadata": {}
  },
  {
   "cell_type": "code",
   "execution_count": 3,
   "source": [
    "searcher.run_search()"
   ],
   "outputs": [
    {
     "output_type": "stream",
     "name": "stdout",
     "text": [
      "Running smallsoccer/0 with params {'batch_size': 100, 'epochs': 50, 'lr': 0.1}\n",
      "Loaded masuite_id: smallsoccer/0.\n",
      "Logging to file: tmp/masuite/SimplePG-smallsoccer-0_epochs50_batch_size100_lr0.1_.csv\n",
      "Running experiement: masuite=smallsoccer/0, lr=0.1, epochs=50, batch_size=100\n",
      "epoch: 0 \t loss: [-47.56903839111328, 39.95850372314453] \t return: [-9.090909090909092, 9.090909090909092]\n",
      "epoch: 1 \t loss: [-74.3486099243164, 55.583805084228516] \t return: [25.0, -25.0]\n",
      "epoch: 2 \t loss: [51.08649826049805, -60.810333251953125] \t return: [11.11111111111111, -11.11111111111111]\n"
     ]
    }
   ],
   "metadata": {}
  },
  {
   "cell_type": "code",
   "execution_count": null,
   "source": [],
   "outputs": [],
   "metadata": {}
  }
 ],
 "metadata": {
  "orig_nbformat": 4,
  "language_info": {
   "name": "python",
   "version": "3.8.5",
   "mimetype": "text/x-python",
   "codemirror_mode": {
    "name": "ipython",
    "version": 3
   },
   "pygments_lexer": "ipython3",
   "nbconvert_exporter": "python",
   "file_extension": ".py"
  },
  "kernelspec": {
   "name": "python3",
   "display_name": "Python 3.8.5 64-bit"
  },
  "interpreter": {
   "hash": "31f2aee4e71d21fbe5cf8b01ff0e069b9275f58929596ceb00d14d90e3e16cd6"
  }
 },
 "nbformat": 4,
 "nbformat_minor": 2
}