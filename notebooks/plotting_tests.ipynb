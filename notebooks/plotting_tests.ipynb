{
 "cells": [
  {
   "cell_type": "code",
   "execution_count": 1,
   "metadata": {},
   "outputs": [],
   "source": [
    "import pandas as pd\n",
    "import numpy as np\n",
    "import matplotlib.pyplot as plt"
   ]
  },
  {
   "cell_type": "code",
   "execution_count": 3,
   "metadata": {},
   "outputs": [],
   "source": [
    "path = '/home/zane/Documents/code/research/uw2020/masuite/tmp/masuite/masuite_id__cartpole_simplepg-0.csv'\n",
    "df = pd.read_csv(path)"
   ]
  },
  {
   "cell_type": "code",
   "execution_count": 4,
   "metadata": {},
   "outputs": [
    {
     "data": {
      "text/html": "<div>\n<style scoped>\n    .dataframe tbody tr th:only-of-type {\n        vertical-align: middle;\n    }\n\n    .dataframe tbody tr th {\n        vertical-align: top;\n    }\n\n    .dataframe thead th {\n        text-align: right;\n    }\n</style>\n<table border=\"1\" class=\"dataframe\">\n  <thead>\n    <tr style=\"text-align: right;\">\n      <th></th>\n      <th>steps</th>\n      <th>episode</th>\n      <th>total_returns</th>\n      <th>episode_len</th>\n      <th>episode_returns</th>\n    </tr>\n  </thead>\n  <tbody>\n    <tr>\n      <th>0</th>\n      <td>17</td>\n      <td>0</td>\n      <td>[17.0]</td>\n      <td>17</td>\n      <td>[17.0]</td>\n    </tr>\n    <tr>\n      <th>1</th>\n      <td>32</td>\n      <td>1</td>\n      <td>[32.0]</td>\n      <td>15</td>\n      <td>[15.0]</td>\n    </tr>\n    <tr>\n      <th>2</th>\n      <td>51</td>\n      <td>2</td>\n      <td>[51.0]</td>\n      <td>19</td>\n      <td>[19.0]</td>\n    </tr>\n    <tr>\n      <th>3</th>\n      <td>64</td>\n      <td>3</td>\n      <td>[64.0]</td>\n      <td>13</td>\n      <td>[13.0]</td>\n    </tr>\n    <tr>\n      <th>4</th>\n      <td>74</td>\n      <td>4</td>\n      <td>[74.0]</td>\n      <td>10</td>\n      <td>[10.0]</td>\n    </tr>\n  </tbody>\n</table>\n</div>",
      "text/plain": "   steps  episode total_returns  episode_len episode_returns\n0     17        0        [17.0]           17          [17.0]\n1     32        1        [32.0]           15          [15.0]\n2     51        2        [51.0]           19          [19.0]\n3     64        3        [64.0]           13          [13.0]\n4     74        4        [74.0]           10          [10.0]"
     },
     "execution_count": 4,
     "metadata": {},
     "output_type": "execute_result"
    }
   ],
   "source": [
    "df.head()"
   ]
  },
  {
   "cell_type": "code",
   "execution_count": 21,
   "metadata": {},
   "outputs": [
    {
     "data": {
      "text/plain": "array(['[17.0]', '[15.0]', '[19.0]', '[13.0]', '[10.0]'], dtype=object)"
     },
     "execution_count": 21,
     "metadata": {},
     "output_type": "execute_result"
    }
   ],
   "source": [
    "arr = np.array(df['episode_returns'].head())"
   ]
  },
  {
   "cell_type": "code",
   "execution_count": 27,
   "metadata": {},
   "outputs": [
    {
     "data": {
      "text/plain": "array([], dtype=object)"
     },
     "execution_count": 27,
     "metadata": {},
     "output_type": "execute_result"
    }
   ],
   "source": []
  },
  {
   "cell_type": "code",
   "execution_count": null,
   "metadata": {},
   "outputs": [],
   "source": []
  }
 ],
 "metadata": {
  "kernelspec": {
   "display_name": "Python 3.8.5 64-bit",
   "name": "python385jvsc74a57bd031f2aee4e71d21fbe5cf8b01ff0e069b9275f58929596ceb00d14d90e3e16cd6"
  },
  "language_info": {
   "codemirror_mode": {
    "name": "ipython",
    "version": 3
   },
   "file_extension": ".py",
   "mimetype": "text/x-python",
   "name": "python",
   "nbconvert_exporter": "python",
   "pygments_lexer": "ipython3",
   "version": "3.8.5"
  },
  "metadata": {
   "interpreter": {
    "hash": "31f2aee4e71d21fbe5cf8b01ff0e069b9275f58929596ceb00d14d90e3e16cd6"
   }
  },
  "orig_nbformat": 2
 },
 "nbformat": 4,
 "nbformat_minor": 2
}