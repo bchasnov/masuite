{
 "cells": [
  {
   "cell_type": "markdown",
   "metadata": {},
   "source": [
    "# Raw_DF Extractor"
   ]
  },
  {
   "cell_type": "markdown",
   "metadata": {},
   "source": [
    "df_data: Function that inputs a file (.csv) of data from masuite. Given an algo, epoch, batch_size, lr. Return a df of the data in the file. To use, need to update the file_name to folder directory, update fname to how data files are named.\n",
    "\n",
    "grad_norms_to_float: Given a list of gradient norms, return float list of grad_norms and RSS for gradients.\n",
    "\n",
    "raw_df: Given an array of all used algos, epochs, batch_sizes, and lrs iterate through all .csv files in a folder, and return a df of all the information."
   ]
  },
  {
   "cell_type": "code",
   "execution_count": null,
   "metadata": {},
   "outputs": [],
   "source": [
    "import numpy as np\n",
    "import pandas as pd\n",
    "from pandas import DataFrame as df"
   ]
  },
  {
   "cell_type": "code",
   "execution_count": null,
   "metadata": {},
   "outputs": [],
   "source": [
    "def df_data(algo, epoch, batch_size, lr):\n",
    "    fname = algo + \"-gridhunter-0_epochs\" + str(epoch) + \"_batch_size\" + str(batch_size) + \"_lr\" + str(lr) + \"_.csv\"\n",
    "    file_name = \"C:/Users/drago/OneDrive - UW/Ratliff Research/gridhunter_data/\"+ fname\n",
    "    simple_data = pd.read_csv(file_name)\n",
    "    return simple_data\n",
    "\n",
    "      \n",
    "def grad_norms_to_float(grad_array):\n",
    "    grad_array = grad_array.strip('][').split(', ')\n",
    "    for i in np.arange(0,len(grad_array)):\n",
    "        grad_array[i] = float(grad_array[i])\n",
    "    root_sum_square = np.sqrt(sum([i**2 for i in grad_array]))\n",
    "    return grad_array, root_sum_square\n",
    "\n",
    "def raw_df(algos, epochs, batch_sizes, lrs):\n",
    "    raw_df = df({'Algo': [], 'Epochs': [], 'Batch Size': [], 'Learning Rate': [], 'Epoch': [],\n",
    "                 'agent0_grad_norms': [], 'agent0_gn_rss': [], 'agent0_avg_rets': [],\n",
    "                 'agent0_avg_lens': [], 'agent0_loss': [], 'agent1_grad_norms': [], 'agent1_gn_rss': [],\n",
    "                 'agent1_avg_rets': [], 'agent1_avg_lens': [], 'agent1_loss': []})\n",
    "    for algo in algos:\n",
    "        for epoch in epochs:\n",
    "            for batch in batch_sizes:\n",
    "                for lr in lrs:\n",
    "                    data = df_data(algo, epoch, batch, lr)\n",
    "                    for idx in np.arange(0,len(data.index)):\n",
    "                        ag0_gn = data.at[idx,'agent0_grad_norms']\n",
    "                        ag0_gn, ag0_gn_rss = grad_norms_to_float(ag0_gn)\n",
    "                        ag0_ar = data.at[idx,'agent0_avg_rets']\n",
    "                        ag0_al = data.at[idx,'agent0_avg_lens']\n",
    "                        ag0_l = data.at[idx,'agent0_loss']\n",
    "                        ag1_gn = data.at[idx,'agent1_grad_norms']\n",
    "                        ag1_gn, ag1_gn_rss = grad_norms_to_float(ag1_gn)\n",
    "                        ag1_ar = data.at[idx,'agent1_avg_rets']\n",
    "                        ag1_al = data.at[idx,'agent1_avg_lens']\n",
    "                        ag1_l = data.at[idx,'agent1_loss']\n",
    "                        raw_df.loc[len(raw_df.index)] = [algo, epoch, batch, lr, idx,\n",
    "                                                         ag0_gn, ag0_gn_rss, ag0_ar, ag0_al, ag0_l,\n",
    "                                                         ag1_gn, ag1_gn_rss, ag1_ar, ag1_al, ag1_l] \n",
    "    return raw_df"
   ]
  }
 ],
 "metadata": {
  "kernelspec": {
   "display_name": "Python 3",
   "language": "python",
   "name": "python3"
  },
  "language_info": {
   "codemirror_mode": {
    "name": "ipython",
    "version": 3
   },
   "file_extension": ".py",
   "mimetype": "text/x-python",
   "name": "python",
   "nbconvert_exporter": "python",
   "pygments_lexer": "ipython3",
   "version": "3.7.4"
  }
 },
 "nbformat": 4,
 "nbformat_minor": 2
}
