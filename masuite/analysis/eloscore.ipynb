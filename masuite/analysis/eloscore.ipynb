{
 "cells": [
  {
   "cell_type": "markdown",
   "metadata": {},
   "source": [
    "# ELO Scoring Function"
   ]
  },
  {
   "cell_type": "code",
   "execution_count": 1,
   "metadata": {},
   "outputs": [],
   "source": [
    "import numpy as np\n",
    "import seaborn as sns\n",
    "sns.set()\n",
    "import pandas as pd\n",
    "from pandas import DataFrame as df\n",
    "import matplotlib.pyplot as plt\n",
    "from matplotlib.pyplot import figure\n",
    "from collections import Counter"
   ]
  },
  {
   "cell_type": "markdown",
   "metadata": {},
   "source": [
    "### Helper Functions"
   ]
  },
  {
   "cell_type": "code",
   "execution_count": 2,
   "metadata": {},
   "outputs": [],
   "source": [
    "# Given eloA, and eloB, return the probability that A wins\n",
    "def expected_prob(eloA, eloB):\n",
    "    return 1 - (1 / (1+10**((eloA-eloB)/400)))\n",
    "\n",
    "# Given eloA, eloB, constant = k, result of A. Return updated eloA, and eloB values\n",
    "def update_elo(eloA, eloB, k, res):\n",
    "    pa = expected_prob(eloA, eloB)\n",
    "    eloA += (res - pa)*k\n",
    "    eloB += ((1-res) - (1 - pa))*k\n",
    "    return eloA, eloB\n",
    "\n",
    "def percentage(num):\n",
    "    return round(num,4)*100"
   ]
  },
  {
   "cell_type": "markdown",
   "metadata": {},
   "source": [
    "### Finding ELO on Datasets"
   ]
  },
  {
   "cell_type": "code",
   "execution_count": 3,
   "metadata": {},
   "outputs": [
    {
     "name": "stdout",
     "output_type": "stream",
     "text": [
      "Chance of A to win =  75.97 %\n",
      "ELO of A =  1224.0\n",
      "ELO of B =  976.0\n"
     ]
    }
   ],
   "source": [
    "# Example of ELO Calculation\n",
    "\n",
    "eloA = 1200\n",
    "eloB = 1000\n",
    "pa = expected_prob(eloA, eloB)\n",
    "print('Chance of A to win = ', percentage(pa), '%' )\n",
    "\n",
    "res = 1 # A wins\n",
    "eloA, eloB = update_elo(eloA, eloB, 100, res)\n",
    "print('ELO of A = ', round(eloA, 0))\n",
    "print('ELO of B = ', round(eloB, 0))"
   ]
  },
  {
   "cell_type": "markdown",
   "metadata": {},
   "source": [
    "For the ELO List, to improve efficiency could add players and update ELO as you run through the matches. For now, it initializes a list of all the players and the code pulls from the list."
   ]
  },
  {
   "cell_type": "code",
   "execution_count": 4,
   "metadata": {},
   "outputs": [
    {
     "ename": "OSError",
     "evalue": "[Errno 22] Invalid argument",
     "output_type": "error",
     "traceback": [
      "\u001b[1;31m---------------------------------------------------------------------------\u001b[0m",
      "\u001b[1;31mOSError\u001b[0m                                   Traceback (most recent call last)",
      "\u001b[1;32m<ipython-input-4-6b646c82c899>\u001b[0m in \u001b[0;36m<module>\u001b[1;34m\u001b[0m\n\u001b[0;32m     11\u001b[0m \u001b[1;31m# Read pkl data\u001b[0m\u001b[1;33m\u001b[0m\u001b[1;33m\u001b[0m\u001b[1;33m\u001b[0m\u001b[0m\n\u001b[0;32m     12\u001b[0m \u001b[0mfile_name\u001b[0m \u001b[1;33m=\u001b[0m \u001b[1;34m\"C:/Users/drago/OneDrive - UW/Ratliff Research/tournaments/smallsoccer-tournaments.pkl\"\u001b[0m\u001b[1;33m\u001b[0m\u001b[1;33m\u001b[0m\u001b[0m\n\u001b[1;32m---> 13\u001b[1;33m \u001b[0mtrn_data\u001b[0m \u001b[1;33m=\u001b[0m \u001b[0mpd\u001b[0m\u001b[1;33m.\u001b[0m\u001b[0mread_pickle\u001b[0m\u001b[1;33m(\u001b[0m\u001b[0mfile_name\u001b[0m\u001b[1;33m)\u001b[0m \u001b[1;31m# trn_data is a list w/ length of 4, and dicts inside w/ length of 12\u001b[0m\u001b[1;33m\u001b[0m\u001b[1;33m\u001b[0m\u001b[0m\n\u001b[0m\u001b[0;32m     14\u001b[0m \u001b[1;31m# 1st level is 4 tournaments, 2nd level is 12 p1's, 3rd level is 12 p2's, 4th level is match histories\u001b[0m\u001b[1;33m\u001b[0m\u001b[1;33m\u001b[0m\u001b[1;33m\u001b[0m\u001b[0m\n\u001b[0;32m     15\u001b[0m \u001b[1;33m\u001b[0m\u001b[0m\n",
      "\u001b[1;32m~\\anaconda3\\lib\\site-packages\\pandas\\io\\pickle.py\u001b[0m in \u001b[0;36mread_pickle\u001b[1;34m(filepath_or_buffer, compression, storage_options)\u001b[0m\n\u001b[0;32m    215\u001b[0m                     \u001b[1;31m# RawIOBase, BufferedIOBase, TextIOBase, TextIOWrapper, mmap]\";\u001b[0m\u001b[1;33m\u001b[0m\u001b[1;33m\u001b[0m\u001b[1;33m\u001b[0m\u001b[0m\n\u001b[0;32m    216\u001b[0m                     \u001b[1;31m# expected \"IO[bytes]\"\u001b[0m\u001b[1;33m\u001b[0m\u001b[1;33m\u001b[0m\u001b[1;33m\u001b[0m\u001b[0m\n\u001b[1;32m--> 217\u001b[1;33m                     \u001b[1;32mreturn\u001b[0m \u001b[0mpickle\u001b[0m\u001b[1;33m.\u001b[0m\u001b[0mload\u001b[0m\u001b[1;33m(\u001b[0m\u001b[0mhandles\u001b[0m\u001b[1;33m.\u001b[0m\u001b[0mhandle\u001b[0m\u001b[1;33m)\u001b[0m  \u001b[1;31m# type: ignore[arg-type]\u001b[0m\u001b[1;33m\u001b[0m\u001b[1;33m\u001b[0m\u001b[0m\n\u001b[0m\u001b[0;32m    218\u001b[0m             \u001b[1;32mexcept\u001b[0m \u001b[0mexcs_to_catch\u001b[0m\u001b[1;33m:\u001b[0m\u001b[1;33m\u001b[0m\u001b[1;33m\u001b[0m\u001b[0m\n\u001b[0;32m    219\u001b[0m                 \u001b[1;31m# e.g.\u001b[0m\u001b[1;33m\u001b[0m\u001b[1;33m\u001b[0m\u001b[1;33m\u001b[0m\u001b[0m\n",
      "\u001b[1;31mOSError\u001b[0m: [Errno 22] Invalid argument"
     ]
    }
   ],
   "source": [
    "def init_elo_df(trn_data):\n",
    "    elo_df = df({'Player': [], 'Group': [], 'ELO': []})\n",
    "    start_elo = 1000\n",
    "    trn = trn_data[0]\n",
    "    for player1 in trn:\n",
    "        elo_df.loc[len(elo_df.index)] = [player1, 1, start_elo]\n",
    "    for player2 in trn[player1]:\n",
    "        elo_df.loc[len(elo_df.index)] = [player2, 2, start_elo]\n",
    "    return elo_df\n",
    "\n",
    "# Read pkl data\n",
    "file_name = \"C:/Users/drago/OneDrive - UW/Ratliff Research/tournaments/smallsoccer-tournaments.pkl\"\n",
    "trn_data = pd.read_pickle(file_name) # trn_data is a list w/ length of 4, and dicts inside w/ length of 12\n",
    "# 1st level is 4 tournaments, 2nd level is 12 p1's, 3rd level is 12 p2's, 4th level is match histories\n",
    "\n",
    "# Making ELO List, have a starter df with every player in every group, update ELO in each run,\n",
    "# have the history pull elo from this list\n",
    "elo_df = init_elo_df(trn_data)\n",
    "\n",
    "# Output history dataframe (all data df) + ELO dataframe\n",
    "hist_df = df({'Tournament': [], 'Player 1': [], 'Player 2': [], 'Return 1': [], 'Return 2': []})\n",
    "\n",
    "k = 100\n",
    "trnnum = 0\n",
    "for trn in trn_data:\n",
    "    trnnum += 1\n",
    "    for player1 in trn:\n",
    "        wins = 0\n",
    "        draws = 0\n",
    "        games = 0\n",
    "        eloA = elo_df.loc[(elo_df['Player'] == player1) & (elo_df['Group'] == 1), 'ELO'].iloc[0] # Get ELO A\n",
    "        for player2 in trn[player1]:\n",
    "            eloB = elo_df.loc[(elo_df['Player'] == player2) & (elo_df['Group'] == 2), 'ELO'].iloc[0] # Get ELO B\n",
    "            history = trn[player1][player2]\n",
    "            for match in history:\n",
    "                res = 0\n",
    "                ret1 = match[0]\n",
    "                ret2 = match[1]\n",
    "                games += 1\n",
    "                if (ret1 > ret2):\n",
    "                    wins += 1\n",
    "                    res = 1\n",
    "                elif (ret1 == ret2):\n",
    "                    draws += 1\n",
    "                    res = 0.5\n",
    "                new_eloA, new_eloB = update_elo(eloA, eloB, k, res) \n",
    "                #elo_df.replace([player1, 1, eloA], value=new_eloA) # Update ELO A\n",
    "                #elo_df.replace([player2, 2, eloA], value=new_eloB) # Update ELO B\n",
    "                hist_df.loc[len(hist_df.index)] = [trnnum, player1, player2, ret1, ret2]\n"
   ]
  },
  {
   "cell_type": "code",
   "execution_count": 5,
   "metadata": {},
   "outputs": [
    {
     "ename": "OSError",
     "evalue": "[Errno 22] Invalid argument",
     "output_type": "error",
     "traceback": [
      "\u001b[1;31m---------------------------------------------------------------------------\u001b[0m",
      "\u001b[1;31mOSError\u001b[0m                                   Traceback (most recent call last)",
      "\u001b[1;32m<ipython-input-5-a62cc75cfb32>\u001b[0m in \u001b[0;36m<module>\u001b[1;34m\u001b[0m\n\u001b[0;32m     12\u001b[0m \u001b[1;31m# Read pkl data\u001b[0m\u001b[1;33m\u001b[0m\u001b[1;33m\u001b[0m\u001b[1;33m\u001b[0m\u001b[0m\n\u001b[0;32m     13\u001b[0m \u001b[0mfile_name\u001b[0m \u001b[1;33m=\u001b[0m \u001b[1;34m\"C:/Users/drago/OneDrive - UW/Ratliff Research/tournaments/smallsoccer-tournaments.pkl\"\u001b[0m\u001b[1;33m\u001b[0m\u001b[1;33m\u001b[0m\u001b[0m\n\u001b[1;32m---> 14\u001b[1;33m \u001b[0mtrn_data\u001b[0m \u001b[1;33m=\u001b[0m \u001b[0mpd\u001b[0m\u001b[1;33m.\u001b[0m\u001b[0mread_pickle\u001b[0m\u001b[1;33m(\u001b[0m\u001b[0mfile_name\u001b[0m\u001b[1;33m)\u001b[0m\u001b[1;33m\u001b[0m\u001b[1;33m\u001b[0m\u001b[0m\n\u001b[0m\u001b[0;32m     15\u001b[0m \u001b[0melo_df\u001b[0m \u001b[1;33m=\u001b[0m \u001b[0minit_elo_df\u001b[0m\u001b[1;33m(\u001b[0m\u001b[0mtrn_data\u001b[0m\u001b[1;33m)\u001b[0m\u001b[1;33m\u001b[0m\u001b[1;33m\u001b[0m\u001b[0m\n\u001b[0;32m     16\u001b[0m \u001b[1;33m\u001b[0m\u001b[0m\n",
      "\u001b[1;32m~\\anaconda3\\lib\\site-packages\\pandas\\io\\pickle.py\u001b[0m in \u001b[0;36mread_pickle\u001b[1;34m(filepath_or_buffer, compression, storage_options)\u001b[0m\n\u001b[0;32m    215\u001b[0m                     \u001b[1;31m# RawIOBase, BufferedIOBase, TextIOBase, TextIOWrapper, mmap]\";\u001b[0m\u001b[1;33m\u001b[0m\u001b[1;33m\u001b[0m\u001b[1;33m\u001b[0m\u001b[0m\n\u001b[0;32m    216\u001b[0m                     \u001b[1;31m# expected \"IO[bytes]\"\u001b[0m\u001b[1;33m\u001b[0m\u001b[1;33m\u001b[0m\u001b[1;33m\u001b[0m\u001b[0m\n\u001b[1;32m--> 217\u001b[1;33m                     \u001b[1;32mreturn\u001b[0m \u001b[0mpickle\u001b[0m\u001b[1;33m.\u001b[0m\u001b[0mload\u001b[0m\u001b[1;33m(\u001b[0m\u001b[0mhandles\u001b[0m\u001b[1;33m.\u001b[0m\u001b[0mhandle\u001b[0m\u001b[1;33m)\u001b[0m  \u001b[1;31m# type: ignore[arg-type]\u001b[0m\u001b[1;33m\u001b[0m\u001b[1;33m\u001b[0m\u001b[0m\n\u001b[0m\u001b[0;32m    218\u001b[0m             \u001b[1;32mexcept\u001b[0m \u001b[0mexcs_to_catch\u001b[0m\u001b[1;33m:\u001b[0m\u001b[1;33m\u001b[0m\u001b[1;33m\u001b[0m\u001b[0m\n\u001b[0;32m    219\u001b[0m                 \u001b[1;31m# e.g.\u001b[0m\u001b[1;33m\u001b[0m\u001b[1;33m\u001b[0m\u001b[1;33m\u001b[0m\u001b[0m\n",
      "\u001b[1;31mOSError\u001b[0m: [Errno 22] Invalid argument"
     ]
    }
   ],
   "source": [
    "def init_elo_df(trn_data):\n",
    "    elo_df = df({'Player': [], 'Group': [], 'ELO': []})\n",
    "    start_elo = 1000\n",
    "    for idx, trn in enumerate(trn_data):\n",
    "        if idx % 1 == 0:\n",
    "            for player1 in trn:\n",
    "                elo_df.loc[len(elo_df.index)] = [player1, 1, start_elo]\n",
    "            for player2 in trn[player1]:\n",
    "                elo_df.loc[len(elo_df.index)] = [player2, 2, start_elo]\n",
    "    return elo_df\n",
    "\n",
    "# Read pkl data\n",
    "file_name = \"C:/Users/drago/OneDrive - UW/Ratliff Research/tournaments/smallsoccer-tournaments.pkl\"\n",
    "trn_data = pd.read_pickle(file_name)\n",
    "elo_df = init_elo_df(trn_data)\n",
    "\n",
    "pd.set_option('display.max_colwidth', -1)\n",
    "pd.set_option('display.max_rows', None)\n",
    "player = player1\n",
    "group = 1\n",
    "print('Player = ', player)\n",
    "print('Group = ', group)\n",
    "print(elo_df.loc[(elo_df['Player'] == player) & (elo_df['Group'] == group), 'ELO'].iloc[0])\n",
    "print(elo_df)"
   ]
  },
  {
   "cell_type": "code",
   "execution_count": 6,
   "metadata": {},
   "outputs": [],
   "source": [
    "# Making ELO List, have a starter df with every player in every group, update ELO in each run,\n",
    "# have the history pull elo from this list"
   ]
  },
  {
   "cell_type": "code",
   "execution_count": null,
   "metadata": {},
   "outputs": [],
   "source": []
  }
 ],
 "metadata": {
  "kernelspec": {
   "display_name": "Python 3",
   "language": "python",
   "name": "python3"
  },
  "language_info": {
   "codemirror_mode": {
    "name": "ipython",
    "version": 3
   },
   "file_extension": ".py",
   "mimetype": "text/x-python",
   "name": "python",
   "nbconvert_exporter": "python",
   "pygments_lexer": "ipython3",
   "version": "3.7.11"
  }
 },
 "nbformat": 4,
 "nbformat_minor": 2
}
