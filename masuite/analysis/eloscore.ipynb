{
 "cells": [
  {
   "cell_type": "markdown",
   "metadata": {},
   "source": [
    "# ELO Scoring Function"
   ]
  },
  {
   "cell_type": "code",
   "execution_count": 204,
   "metadata": {},
   "outputs": [],
   "source": [
    "import numpy as np\n",
    "import seaborn as sns\n",
    "sns.set()\n",
    "import pandas as pd\n",
    "from pandas import DataFrame as df\n",
    "import matplotlib.pyplot as plt\n",
    "from matplotlib.pyplot import figure\n",
    "from collections import Counter\n",
    "import pickle\n",
    "from parfor import parfor\n",
    "import time"
   ]
  },
  {
   "cell_type": "markdown",
   "metadata": {},
   "source": [
    "### Helper Functions"
   ]
  },
  {
   "cell_type": "code",
   "execution_count": 205,
   "metadata": {},
   "outputs": [],
   "source": [
    "# Given eloA, and eloB, return the probability that A wins\n",
    "def expected_prob(eloA, eloB):\n",
    "    return 1 - (1 / (1+10**((eloA-eloB)/400)))\n",
    "\n",
    "# Given eloA, eloB, constant = k, result of A. Return updated eloA, and eloB values\n",
    "def update_elo(eloA, eloB, k, res):\n",
    "    pa = expected_prob(eloA, eloB)\n",
    "    eloA += (res - pa)*k\n",
    "    eloB += ((1-res) - (1 - pa))*k\n",
    "    return round(eloA,0), round(eloB,0)\n",
    "\n",
    "def percentage(num):\n",
    "    return round(num,4)*100"
   ]
  },
  {
   "cell_type": "markdown",
   "metadata": {},
   "source": [
    "### Finding ELO on Datasets"
   ]
  },
  {
   "cell_type": "code",
   "execution_count": 206,
   "metadata": {},
   "outputs": [
    {
     "name": "stdout",
     "output_type": "stream",
     "text": [
      "Chance of A to win =  75.97 %\n",
      "ELO of A =  1224.0\n",
      "ELO of B =  976.0\n"
     ]
    }
   ],
   "source": [
    "# Example of ELO Calculation\n",
    "\n",
    "eloA = 1200\n",
    "eloB = 1000\n",
    "pa = expected_prob(eloA, eloB)\n",
    "print('Chance of A to win = ', percentage(pa), '%' )\n",
    "\n",
    "res = 1 # A wins\n",
    "eloA, eloB = update_elo(eloA, eloB, 100, res)\n",
    "print('ELO of A = ', round(eloA, 0))\n",
    "print('ELO of B = ', round(eloB, 0))"
   ]
  },
  {
   "cell_type": "code",
   "execution_count": 207,
   "metadata": {},
   "outputs": [],
   "source": [
    "# See Bigger Dataframes\n",
    "pd.set_option('display.max_colwidth', None)\n",
    "pd.set_option('display.max_rows', None)"
   ]
  },
  {
   "cell_type": "code",
   "execution_count": 208,
   "metadata": {},
   "outputs": [],
   "source": [
    "# Input Tournament Data File\n",
    "pklfile = \"stacksim.pkl\"\n",
    "file_name = \"C:/Users/drago/OneDrive - UW/Ratliff Research/tournaments/\" + pklfile"
   ]
  },
  {
   "cell_type": "markdown",
   "metadata": {},
   "source": [
    "For the ELO List, to improve efficiency could add players and update ELO as you run through the matches. For now, it initializes a list of all the players and the code pulls from the list."
   ]
  },
  {
   "cell_type": "code",
   "execution_count": 209,
   "metadata": {},
   "outputs": [],
   "source": [
    "def init_elo_df(trn_data):\n",
    "    elo_df = df({'Player': [], 'Group': [], 'ELO': []})\n",
    "    start_elo = 1000\n",
    "    for idx, trn in enumerate(trn_data):\n",
    "        if idx % 3 == 0:\n",
    "            for player1 in trn:\n",
    "                elo_df.loc[len(elo_df.index)] = [player1, 1, start_elo]\n",
    "            for player2 in trn[player1]:\n",
    "                elo_df.loc[len(elo_df.index)] = [player2, 2, start_elo]\n",
    "    return elo_df\n",
    "\n",
    "# Read pkl data\n",
    "# trn_data is a list w/ length of 4, and dicts inside w/ length of 12\n",
    "# 1st level is 4 tournaments, 2nd level is 12 p1's, 3rd level is 12 p2's, 4th level is match histories\n",
    "trn_data = pd.read_pickle(file_name)\n",
    "elo_df = init_elo_df(trn_data)"
   ]
  },
  {
   "cell_type": "code",
   "execution_count": 210,
   "metadata": {},
   "outputs": [
    {
     "name": "stdout",
     "output_type": "stream",
     "text": [
      "1\n",
      "2\n",
      "3\n",
      "4\n"
     ]
    }
   ],
   "source": [
    "# Output history dataframe (all data df) + ELO dataframe\n",
    "hist_df = df({'Tournament': [], 'Player 1': [], 'Player 2': [], 'Result': [], 'Original ELO 1': [], 'New ELO 1': [], 'New ELO 2': []})\n",
    "pvp_df = df({'Tournament': [], 'Player 1': [], 'Player 2': [], 'Wins': [], 'Games': []})\n",
    "k = 100\n",
    "trnnum = 0\n",
    "for trn in trn_data:\n",
    "    trnnum += 1\n",
    "    print(trnnum)\n",
    "    for player1 in trn:\n",
    "        wins = 0\n",
    "        draws = 0\n",
    "        games = 0\n",
    "        for player2 in trn[player1]:\n",
    "            wins2 = 0\n",
    "            games2 = 0\n",
    "            history = trn[player1][player2]\n",
    "            for match in history:\n",
    "                eloA = elo_df.loc[(elo_df['Player'] == player1) & (elo_df['Group'] == 1), 'ELO'].iloc[0] # Get ELO A\n",
    "                eloB = elo_df.loc[(elo_df['Player'] == player2) & (elo_df['Group'] == 2), 'ELO'].iloc[0] # Get ELO B\n",
    "                res = 0\n",
    "                ret1 = match[0]\n",
    "                ret2 = match[1]\n",
    "                games += 1\n",
    "                games2 += 1\n",
    "                if (ret1 > ret2):\n",
    "                    wins += 1\n",
    "                    wins2 += 1\n",
    "                    res = 1\n",
    "                elif (ret1 == ret2):\n",
    "                    draws += 1\n",
    "                    res = 0.5\n",
    "                new_eloA, new_eloB = update_elo(eloA, eloB, k, res) \n",
    "                elo_df.loc[(elo_df['Player'] == player1) & (elo_df['Group'] == 1), 'ELO'] = new_eloA # Update ELO A\n",
    "                elo_df.loc[(elo_df['Player'] == player2) & (elo_df['Group'] == 2), 'ELO'] = new_eloB # Update ELO B\n",
    "                hist_df.loc[len(hist_df.index)] = [trnnum, player1, player2, res, eloA, new_eloA, new_eloB]\n",
    "            pvp_df.loc[len(pvp_df.index)] = [trnnum, player1, player2, wins2, games2]\n"
   ]
  },
  {
   "cell_type": "markdown",
   "metadata": {},
   "source": [
    "### Data Analysis"
   ]
  },
  {
   "cell_type": "code",
   "execution_count": 211,
   "metadata": {},
   "outputs": [
    {
     "name": "stdout",
     "output_type": "stream",
     "text": [
      "(array([ 8, 20], dtype=int64),)\n"
     ]
    },
    {
     "data": {
      "text/html": [
       "<div>\n",
       "<style scoped>\n",
       "    .dataframe tbody tr th:only-of-type {\n",
       "        vertical-align: middle;\n",
       "    }\n",
       "\n",
       "    .dataframe tbody tr th {\n",
       "        vertical-align: top;\n",
       "    }\n",
       "\n",
       "    .dataframe thead th {\n",
       "        text-align: right;\n",
       "    }\n",
       "</style>\n",
       "<table border=\"1\" class=\"dataframe\">\n",
       "  <thead>\n",
       "    <tr style=\"text-align: right;\">\n",
       "      <th></th>\n",
       "      <th>Player</th>\n",
       "      <th>Group</th>\n",
       "      <th>ELO</th>\n",
       "    </tr>\n",
       "  </thead>\n",
       "  <tbody>\n",
       "    <tr>\n",
       "      <th>2</th>\n",
       "      <td>SimplePG-smallsoccer-0_epochs100_batch_size1000_lr0.001_hidden_sizes[64]_-checkpoint.pt</td>\n",
       "      <td>1.0</td>\n",
       "      <td>1908.0</td>\n",
       "    </tr>\n",
       "    <tr>\n",
       "      <th>1</th>\n",
       "      <td>SimplePG-smallsoccer-0_epochs100_batch_size1000_lr0.001_hidden_sizes[32]_-checkpoint.pt</td>\n",
       "      <td>1.0</td>\n",
       "      <td>1899.0</td>\n",
       "    </tr>\n",
       "    <tr>\n",
       "      <th>0</th>\n",
       "      <td>SimplePG-smallsoccer-0_epochs100_batch_size1000_lr0.001_hidden_sizes[128, 64, 32]_-checkpoint.pt</td>\n",
       "      <td>1.0</td>\n",
       "      <td>1838.0</td>\n",
       "    </tr>\n",
       "    <tr>\n",
       "      <th>3</th>\n",
       "      <td>SimplePG-smallsoccer-0_epochs100_batch_size1000_lr0.01_hidden_sizes[128, 64, 32]_-checkpoint.pt</td>\n",
       "      <td>1.0</td>\n",
       "      <td>1827.0</td>\n",
       "    </tr>\n",
       "    <tr>\n",
       "      <th>5</th>\n",
       "      <td>SimplePG-smallsoccer-0_epochs100_batch_size1000_lr0.01_hidden_sizes[64]_-checkpoint.pt</td>\n",
       "      <td>1.0</td>\n",
       "      <td>1745.0</td>\n",
       "    </tr>\n",
       "    <tr>\n",
       "      <th>6</th>\n",
       "      <td>SimplePG-smallsoccer-0_epochs100_batch_size5000_lr0.001_hidden_sizes[128, 64, 32]_-checkpoint.pt</td>\n",
       "      <td>1.0</td>\n",
       "      <td>1713.0</td>\n",
       "    </tr>\n",
       "    <tr>\n",
       "      <th>4</th>\n",
       "      <td>SimplePG-smallsoccer-0_epochs100_batch_size1000_lr0.01_hidden_sizes[32]_-checkpoint.pt</td>\n",
       "      <td>1.0</td>\n",
       "      <td>1693.0</td>\n",
       "    </tr>\n",
       "    <tr>\n",
       "      <th>7</th>\n",
       "      <td>SimplePG-smallsoccer-0_epochs100_batch_size5000_lr0.001_hidden_sizes[32]_-checkpoint.pt</td>\n",
       "      <td>1.0</td>\n",
       "      <td>1677.0</td>\n",
       "    </tr>\n",
       "    <tr>\n",
       "      <th>10</th>\n",
       "      <td>SimplePG-smallsoccer-0_epochs100_batch_size5000_lr0.01_hidden_sizes[32]_-checkpoint.pt</td>\n",
       "      <td>1.0</td>\n",
       "      <td>1584.0</td>\n",
       "    </tr>\n",
       "    <tr>\n",
       "      <th>8</th>\n",
       "      <td>SimplePG-smallsoccer-0_epochs100_batch_size5000_lr0.001_hidden_sizes[64]_-checkpoint.pt</td>\n",
       "      <td>1.0</td>\n",
       "      <td>1531.0</td>\n",
       "    </tr>\n",
       "    <tr>\n",
       "      <th>11</th>\n",
       "      <td>SimplePG-smallsoccer-0_epochs100_batch_size5000_lr0.01_hidden_sizes[64]_-checkpoint.pt</td>\n",
       "      <td>1.0</td>\n",
       "      <td>1476.0</td>\n",
       "    </tr>\n",
       "    <tr>\n",
       "      <th>9</th>\n",
       "      <td>SimplePG-smallsoccer-0_epochs100_batch_size5000_lr0.01_hidden_sizes[128, 64, 32]_-checkpoint.pt</td>\n",
       "      <td>1.0</td>\n",
       "      <td>1412.0</td>\n",
       "    </tr>\n",
       "    <tr>\n",
       "      <th>24</th>\n",
       "      <td>StackPG-smallsoccer-0_epochs100_batch_size1000_lr0.001_hidden_sizes[128, 64, 32]_-checkpoint.pt</td>\n",
       "      <td>1.0</td>\n",
       "      <td>1389.0</td>\n",
       "    </tr>\n",
       "    <tr>\n",
       "      <th>26</th>\n",
       "      <td>StackPG-smallsoccer-0_epochs100_batch_size1000_lr0.001_hidden_sizes[64]_-checkpoint.pt</td>\n",
       "      <td>1.0</td>\n",
       "      <td>1257.0</td>\n",
       "    </tr>\n",
       "    <tr>\n",
       "      <th>22</th>\n",
       "      <td>SimplePG-smallsoccer-0_epochs100_batch_size5000_lr0.01_hidden_sizes[32]_-checkpoint.pt</td>\n",
       "      <td>2.0</td>\n",
       "      <td>1223.0</td>\n",
       "    </tr>\n",
       "    <tr>\n",
       "      <th>27</th>\n",
       "      <td>StackPG-smallsoccer-0_epochs100_batch_size1000_lr0.01_hidden_sizes[128, 64, 32]_-checkpoint.pt</td>\n",
       "      <td>1.0</td>\n",
       "      <td>1220.0</td>\n",
       "    </tr>\n",
       "    <tr>\n",
       "      <th>29</th>\n",
       "      <td>StackPG-smallsoccer-0_epochs100_batch_size1000_lr0.01_hidden_sizes[64]_-checkpoint.pt</td>\n",
       "      <td>1.0</td>\n",
       "      <td>1198.0</td>\n",
       "    </tr>\n",
       "    <tr>\n",
       "      <th>21</th>\n",
       "      <td>SimplePG-smallsoccer-0_epochs100_batch_size5000_lr0.01_hidden_sizes[128, 64, 32]_-checkpoint.pt</td>\n",
       "      <td>2.0</td>\n",
       "      <td>1178.0</td>\n",
       "    </tr>\n",
       "    <tr>\n",
       "      <th>30</th>\n",
       "      <td>StackPG-smallsoccer-0_epochs100_batch_size5000_lr0.001_hidden_sizes[128, 64, 32]_-checkpoint.pt</td>\n",
       "      <td>1.0</td>\n",
       "      <td>1173.0</td>\n",
       "    </tr>\n",
       "    <tr>\n",
       "      <th>28</th>\n",
       "      <td>StackPG-smallsoccer-0_epochs100_batch_size1000_lr0.01_hidden_sizes[32]_-checkpoint.pt</td>\n",
       "      <td>1.0</td>\n",
       "      <td>1152.0</td>\n",
       "    </tr>\n",
       "    <tr>\n",
       "      <th>16</th>\n",
       "      <td>SimplePG-smallsoccer-0_epochs100_batch_size1000_lr0.01_hidden_sizes[32]_-checkpoint.pt</td>\n",
       "      <td>2.0</td>\n",
       "      <td>1146.0</td>\n",
       "    </tr>\n",
       "    <tr>\n",
       "      <th>32</th>\n",
       "      <td>StackPG-smallsoccer-0_epochs100_batch_size5000_lr0.001_hidden_sizes[64]_-checkpoint.pt</td>\n",
       "      <td>1.0</td>\n",
       "      <td>1144.0</td>\n",
       "    </tr>\n",
       "    <tr>\n",
       "      <th>33</th>\n",
       "      <td>StackPG-smallsoccer-0_epochs100_batch_size5000_lr0.01_hidden_sizes[128, 64, 32]_-checkpoint.pt</td>\n",
       "      <td>1.0</td>\n",
       "      <td>1124.0</td>\n",
       "    </tr>\n",
       "    <tr>\n",
       "      <th>23</th>\n",
       "      <td>SimplePG-smallsoccer-0_epochs100_batch_size5000_lr0.01_hidden_sizes[64]_-checkpoint.pt</td>\n",
       "      <td>2.0</td>\n",
       "      <td>1124.0</td>\n",
       "    </tr>\n",
       "    <tr>\n",
       "      <th>34</th>\n",
       "      <td>StackPG-smallsoccer-0_epochs100_batch_size5000_lr0.01_hidden_sizes[32]_-checkpoint.pt</td>\n",
       "      <td>1.0</td>\n",
       "      <td>1098.0</td>\n",
       "    </tr>\n",
       "    <tr>\n",
       "      <th>35</th>\n",
       "      <td>StackPG-smallsoccer-0_epochs100_batch_size5000_lr0.01_hidden_sizes[64]_-checkpoint.pt</td>\n",
       "      <td>1.0</td>\n",
       "      <td>1093.0</td>\n",
       "    </tr>\n",
       "    <tr>\n",
       "      <th>25</th>\n",
       "      <td>StackPG-smallsoccer-0_epochs100_batch_size1000_lr0.001_hidden_sizes[32]_-checkpoint.pt</td>\n",
       "      <td>1.0</td>\n",
       "      <td>1061.0</td>\n",
       "    </tr>\n",
       "    <tr>\n",
       "      <th>18</th>\n",
       "      <td>SimplePG-smallsoccer-0_epochs100_batch_size5000_lr0.001_hidden_sizes[128, 64, 32]_-checkpoint.pt</td>\n",
       "      <td>2.0</td>\n",
       "      <td>1044.0</td>\n",
       "    </tr>\n",
       "    <tr>\n",
       "      <th>14</th>\n",
       "      <td>SimplePG-smallsoccer-0_epochs100_batch_size1000_lr0.001_hidden_sizes[64]_-checkpoint.pt</td>\n",
       "      <td>2.0</td>\n",
       "      <td>1036.0</td>\n",
       "    </tr>\n",
       "    <tr>\n",
       "      <th>17</th>\n",
       "      <td>SimplePG-smallsoccer-0_epochs100_batch_size1000_lr0.01_hidden_sizes[64]_-checkpoint.pt</td>\n",
       "      <td>2.0</td>\n",
       "      <td>1027.0</td>\n",
       "    </tr>\n",
       "    <tr>\n",
       "      <th>13</th>\n",
       "      <td>SimplePG-smallsoccer-0_epochs100_batch_size1000_lr0.001_hidden_sizes[32]_-checkpoint.pt</td>\n",
       "      <td>2.0</td>\n",
       "      <td>1021.0</td>\n",
       "    </tr>\n",
       "    <tr>\n",
       "      <th>19</th>\n",
       "      <td>SimplePG-smallsoccer-0_epochs100_batch_size5000_lr0.001_hidden_sizes[32]_-checkpoint.pt</td>\n",
       "      <td>2.0</td>\n",
       "      <td>966.0</td>\n",
       "    </tr>\n",
       "    <tr>\n",
       "      <th>12</th>\n",
       "      <td>SimplePG-smallsoccer-0_epochs100_batch_size1000_lr0.001_hidden_sizes[128, 64, 32]_-checkpoint.pt</td>\n",
       "      <td>2.0</td>\n",
       "      <td>929.0</td>\n",
       "    </tr>\n",
       "    <tr>\n",
       "      <th>31</th>\n",
       "      <td>StackPG-smallsoccer-0_epochs100_batch_size5000_lr0.001_hidden_sizes[32]_-checkpoint.pt</td>\n",
       "      <td>1.0</td>\n",
       "      <td>816.0</td>\n",
       "    </tr>\n",
       "    <tr>\n",
       "      <th>15</th>\n",
       "      <td>SimplePG-smallsoccer-0_epochs100_batch_size1000_lr0.01_hidden_sizes[128, 64, 32]_-checkpoint.pt</td>\n",
       "      <td>2.0</td>\n",
       "      <td>810.0</td>\n",
       "    </tr>\n",
       "    <tr>\n",
       "      <th>20</th>\n",
       "      <td>SimplePG-smallsoccer-0_epochs100_batch_size5000_lr0.001_hidden_sizes[64]_-checkpoint.pt</td>\n",
       "      <td>2.0</td>\n",
       "      <td>759.0</td>\n",
       "    </tr>\n",
       "    <tr>\n",
       "      <th>37</th>\n",
       "      <td>StackPG-smallsoccer-0_epochs100_batch_size1000_lr0.001_hidden_sizes[32]_-checkpoint.pt</td>\n",
       "      <td>2.0</td>\n",
       "      <td>251.0</td>\n",
       "    </tr>\n",
       "    <tr>\n",
       "      <th>39</th>\n",
       "      <td>StackPG-smallsoccer-0_epochs100_batch_size1000_lr0.01_hidden_sizes[128, 64, 32]_-checkpoint.pt</td>\n",
       "      <td>2.0</td>\n",
       "      <td>220.0</td>\n",
       "    </tr>\n",
       "    <tr>\n",
       "      <th>47</th>\n",
       "      <td>StackPG-smallsoccer-0_epochs100_batch_size5000_lr0.01_hidden_sizes[64]_-checkpoint.pt</td>\n",
       "      <td>2.0</td>\n",
       "      <td>173.0</td>\n",
       "    </tr>\n",
       "    <tr>\n",
       "      <th>44</th>\n",
       "      <td>StackPG-smallsoccer-0_epochs100_batch_size5000_lr0.001_hidden_sizes[64]_-checkpoint.pt</td>\n",
       "      <td>2.0</td>\n",
       "      <td>169.0</td>\n",
       "    </tr>\n",
       "    <tr>\n",
       "      <th>42</th>\n",
       "      <td>StackPG-smallsoccer-0_epochs100_batch_size5000_lr0.001_hidden_sizes[128, 64, 32]_-checkpoint.pt</td>\n",
       "      <td>2.0</td>\n",
       "      <td>156.0</td>\n",
       "    </tr>\n",
       "    <tr>\n",
       "      <th>46</th>\n",
       "      <td>StackPG-smallsoccer-0_epochs100_batch_size5000_lr0.01_hidden_sizes[32]_-checkpoint.pt</td>\n",
       "      <td>2.0</td>\n",
       "      <td>151.0</td>\n",
       "    </tr>\n",
       "    <tr>\n",
       "      <th>38</th>\n",
       "      <td>StackPG-smallsoccer-0_epochs100_batch_size1000_lr0.001_hidden_sizes[64]_-checkpoint.pt</td>\n",
       "      <td>2.0</td>\n",
       "      <td>140.0</td>\n",
       "    </tr>\n",
       "    <tr>\n",
       "      <th>43</th>\n",
       "      <td>StackPG-smallsoccer-0_epochs100_batch_size5000_lr0.001_hidden_sizes[32]_-checkpoint.pt</td>\n",
       "      <td>2.0</td>\n",
       "      <td>137.0</td>\n",
       "    </tr>\n",
       "    <tr>\n",
       "      <th>45</th>\n",
       "      <td>StackPG-smallsoccer-0_epochs100_batch_size5000_lr0.01_hidden_sizes[128, 64, 32]_-checkpoint.pt</td>\n",
       "      <td>2.0</td>\n",
       "      <td>120.0</td>\n",
       "    </tr>\n",
       "    <tr>\n",
       "      <th>40</th>\n",
       "      <td>StackPG-smallsoccer-0_epochs100_batch_size1000_lr0.01_hidden_sizes[32]_-checkpoint.pt</td>\n",
       "      <td>2.0</td>\n",
       "      <td>116.0</td>\n",
       "    </tr>\n",
       "    <tr>\n",
       "      <th>36</th>\n",
       "      <td>StackPG-smallsoccer-0_epochs100_batch_size1000_lr0.001_hidden_sizes[128, 64, 32]_-checkpoint.pt</td>\n",
       "      <td>2.0</td>\n",
       "      <td>60.0</td>\n",
       "    </tr>\n",
       "    <tr>\n",
       "      <th>41</th>\n",
       "      <td>StackPG-smallsoccer-0_epochs100_batch_size1000_lr0.01_hidden_sizes[64]_-checkpoint.pt</td>\n",
       "      <td>2.0</td>\n",
       "      <td>16.0</td>\n",
       "    </tr>\n",
       "  </tbody>\n",
       "</table>\n",
       "</div>"
      ],
      "text/plain": [
       "                                                                                              Player  \\\n",
       "2            SimplePG-smallsoccer-0_epochs100_batch_size1000_lr0.001_hidden_sizes[64]_-checkpoint.pt   \n",
       "1            SimplePG-smallsoccer-0_epochs100_batch_size1000_lr0.001_hidden_sizes[32]_-checkpoint.pt   \n",
       "0   SimplePG-smallsoccer-0_epochs100_batch_size1000_lr0.001_hidden_sizes[128, 64, 32]_-checkpoint.pt   \n",
       "3    SimplePG-smallsoccer-0_epochs100_batch_size1000_lr0.01_hidden_sizes[128, 64, 32]_-checkpoint.pt   \n",
       "5             SimplePG-smallsoccer-0_epochs100_batch_size1000_lr0.01_hidden_sizes[64]_-checkpoint.pt   \n",
       "6   SimplePG-smallsoccer-0_epochs100_batch_size5000_lr0.001_hidden_sizes[128, 64, 32]_-checkpoint.pt   \n",
       "4             SimplePG-smallsoccer-0_epochs100_batch_size1000_lr0.01_hidden_sizes[32]_-checkpoint.pt   \n",
       "7            SimplePG-smallsoccer-0_epochs100_batch_size5000_lr0.001_hidden_sizes[32]_-checkpoint.pt   \n",
       "10            SimplePG-smallsoccer-0_epochs100_batch_size5000_lr0.01_hidden_sizes[32]_-checkpoint.pt   \n",
       "8            SimplePG-smallsoccer-0_epochs100_batch_size5000_lr0.001_hidden_sizes[64]_-checkpoint.pt   \n",
       "11            SimplePG-smallsoccer-0_epochs100_batch_size5000_lr0.01_hidden_sizes[64]_-checkpoint.pt   \n",
       "9    SimplePG-smallsoccer-0_epochs100_batch_size5000_lr0.01_hidden_sizes[128, 64, 32]_-checkpoint.pt   \n",
       "24   StackPG-smallsoccer-0_epochs100_batch_size1000_lr0.001_hidden_sizes[128, 64, 32]_-checkpoint.pt   \n",
       "26            StackPG-smallsoccer-0_epochs100_batch_size1000_lr0.001_hidden_sizes[64]_-checkpoint.pt   \n",
       "22            SimplePG-smallsoccer-0_epochs100_batch_size5000_lr0.01_hidden_sizes[32]_-checkpoint.pt   \n",
       "27    StackPG-smallsoccer-0_epochs100_batch_size1000_lr0.01_hidden_sizes[128, 64, 32]_-checkpoint.pt   \n",
       "29             StackPG-smallsoccer-0_epochs100_batch_size1000_lr0.01_hidden_sizes[64]_-checkpoint.pt   \n",
       "21   SimplePG-smallsoccer-0_epochs100_batch_size5000_lr0.01_hidden_sizes[128, 64, 32]_-checkpoint.pt   \n",
       "30   StackPG-smallsoccer-0_epochs100_batch_size5000_lr0.001_hidden_sizes[128, 64, 32]_-checkpoint.pt   \n",
       "28             StackPG-smallsoccer-0_epochs100_batch_size1000_lr0.01_hidden_sizes[32]_-checkpoint.pt   \n",
       "16            SimplePG-smallsoccer-0_epochs100_batch_size1000_lr0.01_hidden_sizes[32]_-checkpoint.pt   \n",
       "32            StackPG-smallsoccer-0_epochs100_batch_size5000_lr0.001_hidden_sizes[64]_-checkpoint.pt   \n",
       "33    StackPG-smallsoccer-0_epochs100_batch_size5000_lr0.01_hidden_sizes[128, 64, 32]_-checkpoint.pt   \n",
       "23            SimplePG-smallsoccer-0_epochs100_batch_size5000_lr0.01_hidden_sizes[64]_-checkpoint.pt   \n",
       "34             StackPG-smallsoccer-0_epochs100_batch_size5000_lr0.01_hidden_sizes[32]_-checkpoint.pt   \n",
       "35             StackPG-smallsoccer-0_epochs100_batch_size5000_lr0.01_hidden_sizes[64]_-checkpoint.pt   \n",
       "25            StackPG-smallsoccer-0_epochs100_batch_size1000_lr0.001_hidden_sizes[32]_-checkpoint.pt   \n",
       "18  SimplePG-smallsoccer-0_epochs100_batch_size5000_lr0.001_hidden_sizes[128, 64, 32]_-checkpoint.pt   \n",
       "14           SimplePG-smallsoccer-0_epochs100_batch_size1000_lr0.001_hidden_sizes[64]_-checkpoint.pt   \n",
       "17            SimplePG-smallsoccer-0_epochs100_batch_size1000_lr0.01_hidden_sizes[64]_-checkpoint.pt   \n",
       "13           SimplePG-smallsoccer-0_epochs100_batch_size1000_lr0.001_hidden_sizes[32]_-checkpoint.pt   \n",
       "19           SimplePG-smallsoccer-0_epochs100_batch_size5000_lr0.001_hidden_sizes[32]_-checkpoint.pt   \n",
       "12  SimplePG-smallsoccer-0_epochs100_batch_size1000_lr0.001_hidden_sizes[128, 64, 32]_-checkpoint.pt   \n",
       "31            StackPG-smallsoccer-0_epochs100_batch_size5000_lr0.001_hidden_sizes[32]_-checkpoint.pt   \n",
       "15   SimplePG-smallsoccer-0_epochs100_batch_size1000_lr0.01_hidden_sizes[128, 64, 32]_-checkpoint.pt   \n",
       "20           SimplePG-smallsoccer-0_epochs100_batch_size5000_lr0.001_hidden_sizes[64]_-checkpoint.pt   \n",
       "37            StackPG-smallsoccer-0_epochs100_batch_size1000_lr0.001_hidden_sizes[32]_-checkpoint.pt   \n",
       "39    StackPG-smallsoccer-0_epochs100_batch_size1000_lr0.01_hidden_sizes[128, 64, 32]_-checkpoint.pt   \n",
       "47             StackPG-smallsoccer-0_epochs100_batch_size5000_lr0.01_hidden_sizes[64]_-checkpoint.pt   \n",
       "44            StackPG-smallsoccer-0_epochs100_batch_size5000_lr0.001_hidden_sizes[64]_-checkpoint.pt   \n",
       "42   StackPG-smallsoccer-0_epochs100_batch_size5000_lr0.001_hidden_sizes[128, 64, 32]_-checkpoint.pt   \n",
       "46             StackPG-smallsoccer-0_epochs100_batch_size5000_lr0.01_hidden_sizes[32]_-checkpoint.pt   \n",
       "38            StackPG-smallsoccer-0_epochs100_batch_size1000_lr0.001_hidden_sizes[64]_-checkpoint.pt   \n",
       "43            StackPG-smallsoccer-0_epochs100_batch_size5000_lr0.001_hidden_sizes[32]_-checkpoint.pt   \n",
       "45    StackPG-smallsoccer-0_epochs100_batch_size5000_lr0.01_hidden_sizes[128, 64, 32]_-checkpoint.pt   \n",
       "40             StackPG-smallsoccer-0_epochs100_batch_size1000_lr0.01_hidden_sizes[32]_-checkpoint.pt   \n",
       "36   StackPG-smallsoccer-0_epochs100_batch_size1000_lr0.001_hidden_sizes[128, 64, 32]_-checkpoint.pt   \n",
       "41             StackPG-smallsoccer-0_epochs100_batch_size1000_lr0.01_hidden_sizes[64]_-checkpoint.pt   \n",
       "\n",
       "    Group     ELO  \n",
       "2     1.0  1908.0  \n",
       "1     1.0  1899.0  \n",
       "0     1.0  1838.0  \n",
       "3     1.0  1827.0  \n",
       "5     1.0  1745.0  \n",
       "6     1.0  1713.0  \n",
       "4     1.0  1693.0  \n",
       "7     1.0  1677.0  \n",
       "10    1.0  1584.0  \n",
       "8     1.0  1531.0  \n",
       "11    1.0  1476.0  \n",
       "9     1.0  1412.0  \n",
       "24    1.0  1389.0  \n",
       "26    1.0  1257.0  \n",
       "22    2.0  1223.0  \n",
       "27    1.0  1220.0  \n",
       "29    1.0  1198.0  \n",
       "21    2.0  1178.0  \n",
       "30    1.0  1173.0  \n",
       "28    1.0  1152.0  \n",
       "16    2.0  1146.0  \n",
       "32    1.0  1144.0  \n",
       "33    1.0  1124.0  \n",
       "23    2.0  1124.0  \n",
       "34    1.0  1098.0  \n",
       "35    1.0  1093.0  \n",
       "25    1.0  1061.0  \n",
       "18    2.0  1044.0  \n",
       "14    2.0  1036.0  \n",
       "17    2.0  1027.0  \n",
       "13    2.0  1021.0  \n",
       "19    2.0   966.0  \n",
       "12    2.0   929.0  \n",
       "31    1.0   816.0  \n",
       "15    2.0   810.0  \n",
       "20    2.0   759.0  \n",
       "37    2.0   251.0  \n",
       "39    2.0   220.0  \n",
       "47    2.0   173.0  \n",
       "44    2.0   169.0  \n",
       "42    2.0   156.0  \n",
       "46    2.0   151.0  \n",
       "38    2.0   140.0  \n",
       "43    2.0   137.0  \n",
       "45    2.0   120.0  \n",
       "40    2.0   116.0  \n",
       "36    2.0    60.0  \n",
       "41    2.0    16.0  "
      ]
     },
     "execution_count": 211,
     "metadata": {},
     "output_type": "execute_result"
    }
   ],
   "source": [
    "# Final ELO Rankings\n",
    "player = 'SimplePG-smallsoccer-0_epochs100_batch_size5000_lr0.001_hidden_sizes[64]_-checkpoint.pt'\n",
    "print(np.where(elo_df['Player'] == player)) # Group 1 and 2 treated as different players\n",
    "elo_df.sort_values(by='ELO', ascending=False)"
   ]
  },
  {
   "cell_type": "code",
   "execution_count": 212,
   "metadata": {},
   "outputs": [
    {
     "name": "stdout",
     "output_type": "stream",
     "text": [
      "48\n"
     ]
    },
    {
     "data": {
      "text/html": [
       "<div>\n",
       "<style scoped>\n",
       "    .dataframe tbody tr th:only-of-type {\n",
       "        vertical-align: middle;\n",
       "    }\n",
       "\n",
       "    .dataframe tbody tr th {\n",
       "        vertical-align: top;\n",
       "    }\n",
       "\n",
       "    .dataframe thead th {\n",
       "        text-align: right;\n",
       "    }\n",
       "</style>\n",
       "<table border=\"1\" class=\"dataframe\">\n",
       "  <thead>\n",
       "    <tr style=\"text-align: right;\">\n",
       "      <th></th>\n",
       "      <th>Tournament</th>\n",
       "      <th>Player 1</th>\n",
       "      <th>Player 2</th>\n",
       "      <th>Result</th>\n",
       "      <th>Original ELO 1</th>\n",
       "      <th>New ELO 1</th>\n",
       "      <th>New ELO 2</th>\n",
       "    </tr>\n",
       "  </thead>\n",
       "  <tbody>\n",
       "    <tr>\n",
       "      <th>0</th>\n",
       "      <td>1.0</td>\n",
       "      <td>SimplePG-smallsoccer-0_epochs100_batch_size1000_lr0.001_hidden_sizes[128, 64, 32]_-checkpoint.pt</td>\n",
       "      <td>SimplePG-smallsoccer-0_epochs100_batch_size1000_lr0.001_hidden_sizes[128, 64, 32]_-checkpoint.pt</td>\n",
       "      <td>0.0</td>\n",
       "      <td>1000.0</td>\n",
       "      <td>950.0</td>\n",
       "      <td>1050.0</td>\n",
       "    </tr>\n",
       "    <tr>\n",
       "      <th>1</th>\n",
       "      <td>1.0</td>\n",
       "      <td>SimplePG-smallsoccer-0_epochs100_batch_size1000_lr0.001_hidden_sizes[128, 64, 32]_-checkpoint.pt</td>\n",
       "      <td>SimplePG-smallsoccer-0_epochs100_batch_size1000_lr0.001_hidden_sizes[128, 64, 32]_-checkpoint.pt</td>\n",
       "      <td>1.0</td>\n",
       "      <td>950.0</td>\n",
       "      <td>1014.0</td>\n",
       "      <td>986.0</td>\n",
       "    </tr>\n",
       "    <tr>\n",
       "      <th>2</th>\n",
       "      <td>1.0</td>\n",
       "      <td>SimplePG-smallsoccer-0_epochs100_batch_size1000_lr0.001_hidden_sizes[128, 64, 32]_-checkpoint.pt</td>\n",
       "      <td>SimplePG-smallsoccer-0_epochs100_batch_size1000_lr0.001_hidden_sizes[128, 64, 32]_-checkpoint.pt</td>\n",
       "      <td>0.0</td>\n",
       "      <td>1014.0</td>\n",
       "      <td>960.0</td>\n",
       "      <td>1040.0</td>\n",
       "    </tr>\n",
       "    <tr>\n",
       "      <th>3</th>\n",
       "      <td>1.0</td>\n",
       "      <td>SimplePG-smallsoccer-0_epochs100_batch_size1000_lr0.001_hidden_sizes[128, 64, 32]_-checkpoint.pt</td>\n",
       "      <td>SimplePG-smallsoccer-0_epochs100_batch_size1000_lr0.001_hidden_sizes[128, 64, 32]_-checkpoint.pt</td>\n",
       "      <td>1.0</td>\n",
       "      <td>960.0</td>\n",
       "      <td>1021.0</td>\n",
       "      <td>979.0</td>\n",
       "    </tr>\n",
       "    <tr>\n",
       "      <th>4</th>\n",
       "      <td>1.0</td>\n",
       "      <td>SimplePG-smallsoccer-0_epochs100_batch_size1000_lr0.001_hidden_sizes[128, 64, 32]_-checkpoint.pt</td>\n",
       "      <td>SimplePG-smallsoccer-0_epochs100_batch_size1000_lr0.001_hidden_sizes[128, 64, 32]_-checkpoint.pt</td>\n",
       "      <td>0.0</td>\n",
       "      <td>1021.0</td>\n",
       "      <td>965.0</td>\n",
       "      <td>1035.0</td>\n",
       "    </tr>\n",
       "  </tbody>\n",
       "</table>\n",
       "</div>"
      ],
      "text/plain": [
       "   Tournament  \\\n",
       "0         1.0   \n",
       "1         1.0   \n",
       "2         1.0   \n",
       "3         1.0   \n",
       "4         1.0   \n",
       "\n",
       "                                                                                           Player 1  \\\n",
       "0  SimplePG-smallsoccer-0_epochs100_batch_size1000_lr0.001_hidden_sizes[128, 64, 32]_-checkpoint.pt   \n",
       "1  SimplePG-smallsoccer-0_epochs100_batch_size1000_lr0.001_hidden_sizes[128, 64, 32]_-checkpoint.pt   \n",
       "2  SimplePG-smallsoccer-0_epochs100_batch_size1000_lr0.001_hidden_sizes[128, 64, 32]_-checkpoint.pt   \n",
       "3  SimplePG-smallsoccer-0_epochs100_batch_size1000_lr0.001_hidden_sizes[128, 64, 32]_-checkpoint.pt   \n",
       "4  SimplePG-smallsoccer-0_epochs100_batch_size1000_lr0.001_hidden_sizes[128, 64, 32]_-checkpoint.pt   \n",
       "\n",
       "                                                                                           Player 2  \\\n",
       "0  SimplePG-smallsoccer-0_epochs100_batch_size1000_lr0.001_hidden_sizes[128, 64, 32]_-checkpoint.pt   \n",
       "1  SimplePG-smallsoccer-0_epochs100_batch_size1000_lr0.001_hidden_sizes[128, 64, 32]_-checkpoint.pt   \n",
       "2  SimplePG-smallsoccer-0_epochs100_batch_size1000_lr0.001_hidden_sizes[128, 64, 32]_-checkpoint.pt   \n",
       "3  SimplePG-smallsoccer-0_epochs100_batch_size1000_lr0.001_hidden_sizes[128, 64, 32]_-checkpoint.pt   \n",
       "4  SimplePG-smallsoccer-0_epochs100_batch_size1000_lr0.001_hidden_sizes[128, 64, 32]_-checkpoint.pt   \n",
       "\n",
       "   Result  Original ELO 1  New ELO 1  New ELO 2  \n",
       "0     0.0          1000.0      950.0     1050.0  \n",
       "1     1.0           950.0     1014.0      986.0  \n",
       "2     0.0          1014.0      960.0     1040.0  \n",
       "3     1.0           960.0     1021.0      979.0  \n",
       "4     0.0          1021.0      965.0     1035.0  "
      ]
     },
     "execution_count": 212,
     "metadata": {},
     "output_type": "execute_result"
    }
   ],
   "source": [
    "print(len(elo_df))\n",
    "hist_df.head()"
   ]
  },
  {
   "cell_type": "code",
   "execution_count": 213,
   "metadata": {},
   "outputs": [
    {
     "name": "stdout",
     "output_type": "stream",
     "text": [
      "Best Player =  SimplePG-smallsoccer-0_epochs100_batch_size1000_lr0.001_hidden_sizes[64]_-checkpoint.pt\n",
      "ELO =  1908.0\n"
     ]
    },
    {
     "data": {
      "text/plain": [
       "<AxesSubplot:xlabel='Player 1'>"
      ]
     },
     "execution_count": 213,
     "metadata": {},
     "output_type": "execute_result"
    },
    {
     "data": {
      "image/png": "[encoded data removed]",
      "text/plain": [
       "<Figure size 432x288 with 1 Axes>"
      ]
     },
     "metadata": {},
     "output_type": "display_data"
    }
   ],
   "source": [
    "# Best Player\n",
    "player = elo_df.sort_values(by='ELO', ascending=False).iat[0,0]\n",
    "print(\"Best Player = \", player)\n",
    "print(\"ELO = \", elo_df.sort_values(by='ELO', ascending=False).iat[0,2])\n",
    "group = int(elo_df.sort_values(by='ELO', ascending=False).iat[0,1])\n",
    "hist_df_players = hist_df.groupby('Player ' + str(group))\n",
    "hist_df_player = hist_df_players.get_group(player)\n",
    "hist_df_player.plot(x = 'Player ' + str(group), y = 'New ELO ' + str(group))\n"
   ]
  },
  {
   "cell_type": "code",
   "execution_count": 214,
   "metadata": {},
   "outputs": [
    {
     "name": "stdout",
     "output_type": "stream",
     "text": [
      "Worst Player =  StackPG-smallsoccer-0_epochs100_batch_size1000_lr0.01_hidden_sizes[64]_-checkpoint.pt\n",
      "ELO =  16.0\n"
     ]
    },
    {
     "data": {
      "text/plain": [
       "<AxesSubplot:xlabel='Player 2'>"
      ]
     },
     "execution_count": 214,
     "metadata": {},
     "output_type": "execute_result"
    },
    {
     "data": {
      "image/png": "[encoded data removed]",
      "text/plain": [
       "<Figure size 432x288 with 1 Axes>"
      ]
     },
     "metadata": {},
     "output_type": "display_data"
    }
   ],
   "source": [
    "# Worst Player\n",
    "player = elo_df.sort_values(by='ELO', ascending=False).iat[len(elo_df)-1,0]\n",
    "print(\"Worst Player = \", player)\n",
    "print(\"ELO = \", elo_df.sort_values(by='ELO', ascending=False).iat[len(elo_df)-1,2])\n",
    "group = int(elo_df.sort_values(by='ELO', ascending=False).iat[len(elo_df)-1,1])\n",
    "hist_df_players = hist_df.groupby('Player ' + str(group))\n",
    "hist_df_player = hist_df_players.get_group(player)\n",
    "\n",
    "hist_df_player.plot(x = 'Player ' + str(group), y = 'New ELO ' + str(group))"
   ]
  },
  {
   "cell_type": "markdown",
   "metadata": {},
   "source": [
    "### Confusion Matrix"
   ]
  },
  {
   "cell_type": "code",
   "execution_count": 219,
   "metadata": {},
   "outputs": [
    {
     "name": "stdout",
     "output_type": "stream",
     "text": [
      "\n",
      "Test P1\n",
      "SimplePG-smallsoccer-0_epochs100_batch_size1000_lr0.001_hidden_sizes[32]_-checkpoint.pt\n",
      "\n",
      "Best P1\n",
      "SimplePG-smallsoccer-0_epochs100_batch_size5000_lr0.01_hidden_sizes[64]_-checkpoint.pt\n",
      "\n",
      "Test P1\n",
      "SimplePG-smallsoccer-0_epochs100_batch_size1000_lr0.001_hidden_sizes[32]_-checkpoint.pt\n",
      "\n",
      "Best P1\n",
      "SimplePG-smallsoccer-0_epochs100_batch_size5000_lr0.01_hidden_sizes[64]_-checkpoint.pt\n",
      "\n",
      "Worst P1\n",
      "StackPG-smallsoccer-0_epochs100_batch_size1000_lr0.001_hidden_sizes[32]_-checkpoint.pt\n",
      "\n",
      "Best P1\n",
      "StackPG-smallsoccer-0_epochs100_batch_size1000_lr0.01_hidden_sizes[64]_-checkpoint.pt\n",
      "\n",
      "Worst P1\n",
      "StackPG-smallsoccer-0_epochs100_batch_size5000_lr0.001_hidden_sizes[32]_-checkpoint.pt\n",
      "\n",
      "\n",
      "Test P1\n",
      "StackPG-smallsoccer-0_epochs100_batch_size5000_lr0.01_hidden_sizes[64]_-checkpoint.pt\n",
      "\n",
      "\n",
      "Worst P1\n",
      "StackPG-smallsoccer-0_epochs100_batch_size1000_lr0.001_hidden_sizes[32]_-checkpoint.pt\n",
      "\n",
      "Best P1\n",
      "StackPG-smallsoccer-0_epochs100_batch_size1000_lr0.01_hidden_sizes[64]_-checkpoint.pt\n",
      "\n",
      "Worst P1\n",
      "StackPG-smallsoccer-0_epochs100_batch_size5000_lr0.001_hidden_sizes[32]_-checkpoint.pt\n",
      "\n",
      "\n",
      "Test P1\n",
      "StackPG-smallsoccer-0_epochs100_batch_size5000_lr0.01_hidden_sizes[64]_-checkpoint.pt\n",
      "\n",
      "24\n",
      "4\n"
     ]
    },
    {
     "name": "stderr",
     "output_type": "stream",
     "text": [
      "C:\\Users\\drago\\anaconda3\\lib\\site-packages\\ipykernel_launcher.py:49: MatplotlibDeprecationWarning: The 'cmap' parameter to Colorbar has no effect because it is overridden by the mappable; it is deprecated since 3.3 and will be removed two minor releases later.\n"
     ]
    },
    {
     "data": {
      "image/png": "[encoded data removed]",
      "text/plain": [
       "<Figure size 432x288 with 2 Axes>"
      ]
     },
     "metadata": {},
     "output_type": "display_data"
    }
   ],
   "source": [
    "with open(file_name,'rb') as f:\n",
    "    out = pickle.load(f)\n",
    "    \n",
    "players = dict()\n",
    "\n",
    "for o in out:\n",
    "    for p in o.keys():\n",
    "        if p not in players:\n",
    "            players[p] = len(players)\n",
    "\n",
    "n = len(players)\n",
    "game_matrix = np.zeros((n,n))\n",
    "\n",
    "count = 0\n",
    "trncount = 0\n",
    "for o in out:\n",
    "    trncount += 1\n",
    "    if (trncount > 2):\n",
    "        count = 12\n",
    "    else:\n",
    "        count = 0\n",
    "    for p1 in o.keys():\n",
    "        for p2 in o[p1].keys():\n",
    "            idx1 = players[p1]\n",
    "            idx2 = players[p2]\n",
    "            wins = pvp_df.loc[(pvp_df['Player 1'] == p1) & (pvp_df['Player 2'] == p2), 'Wins'].iloc[0]\n",
    "            games = pvp_df.loc[(pvp_df['Player 1'] == p1) & (pvp_df['Player 2'] == p2), 'Games'].iloc[0]\n",
    "            win_prob = wins / games\n",
    "            game_matrix[idx1][idx2] = win_prob\n",
    "        count += 1\n",
    "print(count)\n",
    "\n",
    "print(trncount)\n",
    "sns.color_palette(\"light:#5A9\", as_cmap=True)\n",
    "plt.grid(False)\n",
    "plt.imshow(game_matrix.transpose(), vmin=0, vmax=1)\n",
    "plt.xlabel('Player 1')\n",
    "plt.ylabel('Player 2')\n",
    "cbr = plt.colorbar(cmap=sns.color_palette(\"light:#5A9\", as_cmap=True))\n",
    "\n",
    "cbr.set_label('Player 1 Win Probability',  labelpad=15)\n",
    "plt.xticks([0,23])\n",
    "plt.yticks([0,23])\n",
    "colour = 'darkturquoise'\n",
    "plt.axvline(x=11.5, color=colour)\n",
    "plt.axhline(y=11.5, color=colour)\n",
    "textloc = [1, 5, 13.5, 17]\n",
    "textsize = 13\n",
    "plt.text(textloc[0], textloc[1], 'P1: SimplePG', color=colour).set_size(textsize)\n",
    "plt.text(textloc[0], textloc[1]+2, 'P2: SimplePG', color=colour).set_size(textsize)\n",
    "plt.text(textloc[2], textloc[1], 'P1: Leader', color=colour).set_size(textsize)\n",
    "plt.text(textloc[2], textloc[1]+2, 'P2: SimplePG', color=colour).set_size(textsize)\n",
    "plt.text(textloc[0], textloc[3], 'P1: SimplePG', color=colour).set_size(textsize)\n",
    "plt.text(textloc[0], textloc[3]+2, 'P2: Follower', color=colour).set_size(textsize)\n",
    "plt.text(textloc[2], textloc[3], 'P1: Leader', color=colour).set_size(textsize)\n",
    "plt.text(textloc[2], textloc[3]+2, 'P2: Follower', color=colour).set_size(textsize)"
   ]
  },
  {
   "cell_type": "code",
   "execution_count": 233,
   "metadata": {},
   "outputs": [
    {
     "name": "stdout",
     "output_type": "stream",
     "text": [
      "mean simp v simp: 0.49783333333333335\n",
      "mean leader v simp: 0.4705555555555556\n",
      "mean simp v follower: 0.9907916666666667\n",
      "mean leader v follower: 0.989638888888889\n"
     ]
    },
    {
     "data": {
      "image/png": "[encoded data removed]",
      "text/plain": [
       "<Figure size 432x288 with 1 Axes>"
      ]
     },
     "metadata": {},
     "output_type": "display_data"
    }
   ],
   "source": [
    "mean_matrix = np.mean(game_matrix, axis=1)\n",
    "plt.plot(range(len(mean_matrix)), mean_matrix)\n",
    "\n",
    "plt.ylim([0,1])\n",
    "plt.ylabel(\"Player 1 Win Probability\")\n",
    "plt.xlabel(\"Player 1\")\n",
    "plt.title(\"Mean Player 1 Win Probabilities\")\n",
    "trans_game_matrix = game_matrix.transpose()\n",
    "print('mean simp v simp:', np.mean(trans_game_matrix[0:12, 0:12]))\n",
    "print('mean leader v simp:',np.mean(trans_game_matrix[0:12, 12:24]))\n",
    "print('mean simp v follower:', np.mean(trans_game_matrix[12:24, 0:12]))\n",
    "print('mean leader v follower:', np.mean(trans_game_matrix[12:24, 12:24]))"
   ]
  },
  {
   "cell_type": "code",
   "execution_count": 235,
   "metadata": {},
   "outputs": [
    {
     "name": "stdout",
     "output_type": "stream",
     "text": [
      "0\n"
     ]
    },
    {
     "data": {
      "image/png": "[encoded data removed]",
      "text/plain": [
       "<Figure size 432x288 with 2 Axes>"
      ]
     },
     "metadata": {},
     "output_type": "display_data"
    }
   ],
   "source": [
    "pklfile = \"randAgent2_2.pkl\"\n",
    "file_name = \"C:/Users/drago/OneDrive - UW/Ratliff Research/tournaments/\" + pklfile\n",
    "with open(file_name,'rb') as f:\n",
    "    out = pickle.load(f)\n",
    "    \n",
    "players = dict()\n",
    "\n",
    "for o in out:\n",
    "    for p in o.keys():\n",
    "        if p not in players:\n",
    "            players[p] = len(players)\n",
    "\n",
    "n = len(players)\n",
    "game_matrix = np.zeros((n,n))\n",
    "\n",
    "count = 0\n",
    "trncount = 0\n",
    "for o in out:\n",
    "    for p1 in o.keys():\n",
    "        for p2 in o[p1].keys():\n",
    "            idx1 = players[p1]\n",
    "            idx2 = players[p2]\n",
    "            \n",
    "            rews = np.array(o[p1][p2])\n",
    "            win_prob = (rews[:,0]>0).mean()\n",
    "            game_matrix[idx1][idx2] = win_prob\n",
    "\n",
    "print(trncount)\n",
    "sns.color_palette(\"light:#5A9\", as_cmap=True)\n",
    "plt.grid(False)\n",
    "plt.imshow(game_matrix.transpose(), vmin=0, vmax=1)\n",
    "plt.xlabel('Player 1')\n",
    "plt.ylabel('Player 2')\n",
    "cbr = plt.colorbar()\n",
    "\n",
    "cbr.set_label('Player 1 Win Probability',  labelpad=15)\n",
    "plt.xticks([0,23])\n",
    "plt.yticks([0,23])\n",
    "colour = 'darkturquoise'\n",
    "plt.axvline(x=11.5, color=colour)\n",
    "plt.axhline(y=11.5, color=colour)\n",
    "textloc = [1, 5, 14, 17]\n",
    "textsize = 13\n",
    "plt.text(textloc[0], textloc[1], 'P1: SimplePG', color=colour).set_size(textsize)\n",
    "plt.text(textloc[0], textloc[1]+2, 'P2: Random', color=colour).set_size(textsize)\n",
    "plt.text(textloc[2], textloc[1], 'P1: Leader', color=colour).set_size(textsize)\n",
    "plt.text(textloc[2], textloc[1]+2, 'P2: Random', color=colour).set_size(textsize)\n",
    "plt.text(textloc[0], textloc[3], 'P1: SimplePG', color=colour).set_size(textsize)\n",
    "plt.text(textloc[0], textloc[3]+2, 'P2: Random', color=colour).set_size(textsize)\n",
    "plt.text(textloc[2], textloc[3], 'P1: Leader', color=colour).set_size(textsize)\n",
    "plt.text(textloc[2], textloc[3]+2, 'P2: Random', color=colour).set_size(textsize)\n"
   ]
  },
  {
   "cell_type": "code",
   "execution_count": 237,
   "metadata": {},
   "outputs": [
    {
     "name": "stdout",
     "output_type": "stream",
     "text": [
      "mean simp v random: 0.794375\n",
      "mean leader v random: 0.7831111111111111\n",
      "mean simp v random: 0.7952361111111111\n",
      "mean leader v random: 0.782638888888889\n"
     ]
    }
   ],
   "source": [
    "trans_game_matrix = game_matrix.transpose()\n",
    "print('mean simp v random:', np.mean(trans_game_matrix[0:12, 0:12]))\n",
    "print('mean leader v random:',np.mean(trans_game_matrix[0:12, 12:24]))\n",
    "print('mean simp v random:', np.mean(trans_game_matrix[12:24, 0:12]))\n",
    "print('mean leader v random:', np.mean(trans_game_matrix[12:24, 12:24]))"
   ]
  },
  {
   "cell_type": "code",
   "execution_count": 238,
   "metadata": {},
   "outputs": [
    {
     "data": {
      "image/png": "[encoded data removed]",
      "text/plain": [
       "<Figure size 432x288 with 2 Axes>"
      ]
     },
     "metadata": {},
     "output_type": "display_data"
    }
   ],
   "source": [
    "# Input Tournament Data File\n",
    "pklfile = \"randAgent1.pkl\"\n",
    "file_name = \"C:/Users/drago/OneDrive - UW/Ratliff Research/tournaments/\" + pklfile\n",
    "\n",
    "with open(file_name,'rb') as f:\n",
    "    out = pickle.load(f)\n",
    "    \n",
    "players = dict()\n",
    "\n",
    "for o in out:\n",
    "    for p in o.keys():\n",
    "        if p not in players:\n",
    "            players[p] = len(players)\n",
    "\n",
    "n = len(players)\n",
    "game_matrix2 = np.zeros((n,n))\n",
    "\n",
    "for o in out:\n",
    "    for p1 in o.keys():\n",
    "        for p2 in o[p1].keys():\n",
    "            idx1 = players[p1]\n",
    "            idx2 = players[p2]\n",
    "            \n",
    "            rews = np.array(o[p1][p2])\n",
    "            win_prob = (rews[:,0]>0).mean()\n",
    "            game_matrix2[idx1][idx2] = win_prob\n",
    "plt.grid(False)\n",
    "plt.imshow(game_matrix2.transpose(), vmin=0, vmax=1)\n",
    "plt.xlabel('Player 1')\n",
    "plt.ylabel('Player 2')\n",
    "colour = 'darkturquoise'\n",
    "plt.xticks([0,23])\n",
    "plt.yticks([0,23])\n",
    "\n",
    "plt.axvline(x=11.5, color=colour)\n",
    "plt.axhline(y=11.5, color=colour)\n",
    "textloc = [1, 5, 14, 17]\n",
    "textsize = 13\n",
    "plt.text(textloc[0], textloc[1], 'P1: Random', color=colour).set_size(textsize)\n",
    "plt.text(textloc[0], textloc[1]+2, 'P2: SimplePG', color=colour).set_size(textsize)\n",
    "plt.text(textloc[2], textloc[1], 'P1: Random', color=colour).set_size(textsize)\n",
    "plt.text(textloc[2], textloc[1]+2, 'P2: SimplePG', color=colour).set_size(textsize)\n",
    "plt.text(textloc[0], textloc[3], 'P1: Random', color=colour).set_size(textsize)\n",
    "plt.text(textloc[0], textloc[3]+2, 'P2: Follower', color=colour).set_size(textsize)\n",
    "plt.text(textloc[2], textloc[3], 'P1: Random', color=colour).set_size(textsize)\n",
    "plt.text(textloc[2], textloc[3]+2, 'P2: Follower', color=colour).set_size(textsize)\n",
    "cbr = plt.colorbar()\n",
    "cbr.set_label('Player 1 Win Probability',  labelpad=15)"
   ]
  },
  {
   "cell_type": "code",
   "execution_count": 239,
   "metadata": {},
   "outputs": [
    {
     "name": "stdout",
     "output_type": "stream",
     "text": [
      "mean random v simp: 0.205\n",
      "mean random v simp: 0.19951388888888888\n",
      "mean random v follower: 0.7897222222222222\n",
      "mean random v follower: 0.7915972222222222\n"
     ]
    }
   ],
   "source": [
    "trans_game_matrix = game_matrix2.transpose()\n",
    "print('mean random v simp:', np.mean(trans_game_matrix[0:12, 0:12]))\n",
    "print('mean random v simp:',np.mean(trans_game_matrix[0:12, 12:24]))\n",
    "print('mean random v follower:', np.mean(trans_game_matrix[12:24, 0:12]))\n",
    "print('mean random v follower:', np.mean(trans_game_matrix[12:24, 12:24]))"
   ]
  },
  {
   "cell_type": "code",
   "execution_count": 216,
   "metadata": {},
   "outputs": [
    {
     "data": {
      "text/plain": [
       "Text(0.5, 1.0, 'Mean Player 1 Win Probabilities')"
      ]
     },
     "execution_count": 216,
     "metadata": {},
     "output_type": "execute_result"
    },
    {
     "data": {
      "image/png": "[encoded data removed]",
      "text/plain": [
       "<Figure size 432x288 with 1 Axes>"
      ]
     },
     "metadata": {},
     "output_type": "display_data"
    }
   ],
   "source": [
    "mean_matrix = np.mean(game_matrix, axis=1)\n",
    "mean_matrix2 = np.mean(game_matrix2, axis=1)\n",
    "plt.plot(range(len(mean_matrix2)), mean_matrix2)\n",
    "plt.plot(range(len(mean_matrix)), mean_matrix)\n",
    "# plt.axvline(x=13, color='k')\n",
    "# plt.axvline(x=19, color='k')\n",
    "# plt.axvline(x=11, color='r')\n",
    "# plt.axvline(x=17, color='r')\n",
    "plt.ylim([0,1])\n",
    "\n",
    "plt.ylabel(\"Player 1 Win Probability\")\n",
    "plt.xlabel(\"Player 1\")\n",
    "plt.title(\"Mean Player 1 Win Probabilities\")\n",
    "plt.legend(['Random Player 1', 'Random Player 2'])"
   ]
  },
  {
   "cell_type": "code",
   "execution_count": 203,
   "metadata": {},
   "outputs": [
    {
     "data": {
      "image/png": "[encoded data removed]",
      "text/plain": [
       "<Figure size 432x288 with 2 Axes>"
      ]
     },
     "metadata": {},
     "output_type": "display_data"
    }
   ],
   "source": [
    "quad1 = game_matrix[0:12, 0:12]\n",
    "quad2 = game_matrix2[12:24, 0:12]\n",
    "quad3 = game_matrix2[12:24, 12:24]\n",
    "quad4 = game_matrix[12:24, 0:12]\n",
    "half1 = np.vstack((quad1, quad2))\n",
    "half2 = np.vstack((quad3, quad4))\n",
    "rand_game_matrix = np.hstack((half1, half2))\n",
    "plt.grid(False)\n",
    "plt.imshow(rand_game_matrix.transpose(), vmin=0, vmax=1)\n",
    "plt.xlabel('Player 1')\n",
    "plt.ylabel('Player 2')\n",
    "colour = 'darkturquoise'\n",
    "plt.xticks([0,23])\n",
    "plt.yticks([0,23]) \n",
    "plt.axvline(x=11.5, color=colour)\n",
    "plt.axhline(y=11.5, color=colour)\n",
    "textloc = [1, 5, 13, 17]\n",
    "textsize = 13\n",
    "plt.text(textloc[0], textloc[1], 'P1: SimplePG', color=colour).set_size(textsize)\n",
    "plt.text(textloc[0], textloc[1]+2, 'P2: Random', color=colour).set_size(textsize)\n",
    "\n",
    "plt.text(textloc[2], textloc[1], 'P1: Random', color=colour).set_size(textsize)\n",
    "plt.text(textloc[2], textloc[1]+2, 'P2: SimplePG', color=colour).set_size(textsize)\n",
    "\n",
    "plt.text(textloc[0], textloc[3], 'P1: Random', color=colour).set_size(textsize)\n",
    "plt.text(textloc[0], textloc[3]+2, 'P2: Follower', color=colour).set_size(textsize)\n",
    "\n",
    "plt.text(textloc[2], textloc[3], 'P1: Leader', color=colour).set_size(textsize)\n",
    "plt.text(textloc[2], textloc[3]+2, 'P2: Random', color=colour).set_size(textsize)\n",
    "\n",
    "cbr = plt.colorbar()\n",
    "cbr.set_label('Player 1 Win Probability',  labelpad=15)"
   ]
  },
  {
   "cell_type": "code",
   "execution_count": 79,
   "metadata": {},
   "outputs": [
    {
     "data": {
      "text/plain": [
       "Text(0.5, 1.0, 'Mean Player 1 Win Probabilities')"
      ]
     },
     "execution_count": 79,
     "metadata": {},
     "output_type": "execute_result"
    },
    {
     "data": {
      "image/png": "[encoded data removed]",
      "text/plain": [
       "<Figure size 432x288 with 1 Axes>"
      ]
     },
     "metadata": {},
     "output_type": "display_data"
    }
   ],
   "source": [
    "mean_matrix = np.mean(game_matrix, axis=1)\n",
    "plt.plot(range(len(mean_matrix)), mean_matrix)\n",
    "plt.ylim([0,1])\n",
    "plt.ylabel(\"Player 1 Win Probability\")\n",
    "plt.xlabel(\"Player 1\")\n",
    "plt.title(\"Mean Player 1 Win Probabilities\")"
   ]
  },
  {
   "cell_type": "code",
   "execution_count": 241,
   "metadata": {},
   "outputs": [
    {
     "data": {
      "image/png": "[encoded data removed]",
      "text/plain": [
       "<Figure size 432x288 with 2 Axes>"
      ]
     },
     "metadata": {},
     "output_type": "display_data"
    }
   ],
   "source": [
    "# Input Tournament Data File\n",
    "pklfile = \"randRand.pkl\"\n",
    "file_name = \"C:/Users/drago/OneDrive - UW/Ratliff Research/tournaments/\" + pklfile\n",
    "\n",
    "with open(file_name,'rb') as f:\n",
    "    out = pickle.load(f)\n",
    "    \n",
    "players = dict()\n",
    "\n",
    "for o in out:\n",
    "    for p in o.keys():\n",
    "        if p not in players:\n",
    "            players[p] = len(players)\n",
    "\n",
    "n = len(players)\n",
    "game_matrix3 = np.zeros((n,n))\n",
    "\n",
    "for o in out:\n",
    "    for p1 in o.keys():\n",
    "        for p2 in o[p1].keys():\n",
    "            idx1 = players[p1]\n",
    "            idx2 = players[p2]\n",
    "            \n",
    "            rews = np.array(o[p1][p2])\n",
    "            win_prob = (rews[:,0]>0).mean()\n",
    "            game_matrix3[idx1][idx2] = win_prob\n",
    "plt.grid(False)\n",
    "plt.imshow(game_matrix3.transpose(), vmin=0, vmax=1)\n",
    "plt.xlabel('Player 1')\n",
    "plt.ylabel('Player 2')\n",
    "colour = 'darkturquoise'\n",
    "plt.xticks([0,23])\n",
    "plt.yticks([0,23])\n",
    "\n",
    "plt.axvline(x=11.5, color=colour)\n",
    "plt.axhline(y=11.5, color=colour)\n",
    "textloc = [1, 5, 14, 17]\n",
    "textsize = 13\n",
    "plt.text(textloc[0], textloc[1], 'P1: Random', color=colour).set_size(textsize)\n",
    "plt.text(textloc[0], textloc[1]+2, 'P2: Random', color=colour).set_size(textsize)\n",
    "plt.text(textloc[2], textloc[1], 'P1: Random', color=colour).set_size(textsize)\n",
    "plt.text(textloc[2], textloc[1]+2, 'P2: Random', color=colour).set_size(textsize)\n",
    "plt.text(textloc[0], textloc[3], 'P1: Random', color=colour).set_size(textsize)\n",
    "plt.text(textloc[0], textloc[3]+2, 'P2: Random', color=colour).set_size(textsize)\n",
    "plt.text(textloc[2], textloc[3], 'P1: Random', color=colour).set_size(textsize)\n",
    "plt.text(textloc[2], textloc[3]+2, 'P2: Random', color=colour).set_size(textsize)\n",
    "cbr = plt.colorbar()\n",
    "cbr.set_label('Player 1 Win Probability',  labelpad=15)"
   ]
  },
  {
   "cell_type": "code",
   "execution_count": 244,
   "metadata": {},
   "outputs": [
    {
     "name": "stdout",
     "output_type": "stream",
     "text": [
      "mean random v random 0.49959374999999995\n"
     ]
    },
    {
     "data": {
      "image/png": "[encoded data removed]",
      "text/plain": [
       "<Figure size 432x288 with 1 Axes>"
      ]
     },
     "metadata": {},
     "output_type": "display_data"
    }
   ],
   "source": [
    "mean_matrix = np.mean(game_matrix3, axis=1)\n",
    "plt.plot(range(len(mean_matrix)), mean_matrix)\n",
    "\n",
    "plt.ylim([0,1])\n",
    "plt.ylabel(\"Player 1 Win Probability\")\n",
    "plt.xlabel(\"Player 1\")\n",
    "plt.title(\"Mean Player 1 Win Probabilities\")\n",
    "trans_game_matrix = game_matrix3.transpose()\n",
    "print('mean random v random', np.mean(trans_game_matrix))"
   ]
  },
  {
   "cell_type": "markdown",
   "metadata": {},
   "source": [
    "## Gridhunter Cost Matrices"
   ]
  },
  {
   "cell_type": "code",
   "execution_count": null,
   "metadata": {},
   "outputs": [],
   "source": []
  },
  {
   "cell_type": "code",
   "execution_count": null,
   "metadata": {},
   "outputs": [],
   "source": [
    "pklfile = \"gridStackSim.pkl\"\n",
    "file_name = \"C:/Users/drago/OneDrive - UW/Ratliff Research/tournaments/\" + pklfile\n",
    "with open(file_name,'rb') as f:\n",
    "    out = pickle.load(f)\n",
    "    \n",
    "players = dict()\n",
    "\n",
    "for o in out:\n",
    "    for p in o.keys():\n",
    "        if p not in players:\n",
    "            players[p] = len(players)\n",
    "\n",
    "n = len(players)\n",
    "game_matrix = np.zeros((n,n))\n",
    "\n",
    "\n",
    "for o in out:\n",
    "    for p1 in o.keys():\n",
    "        for p2 in o[p1].keys():\n",
    "            idx1 = players[p1]\n",
    "            idx2 = players[p2]\n",
    "            \n",
    "            rews = np.array(o[p1][p2])\n",
    "            win_prob = (rews[:,0]>0).mean()\n",
    "            game_matrix[idx1][idx2] = win_prob\n",
    "\n",
    "sns.color_palette()\n",
    "plt.grid(False)\n",
    "plt.imshow(game_matrix.transpose(), vmin=0, vmax=1)\n",
    "plt.xlabel('Player 1')\n",
    "plt.ylabel('Player 2')\n",
    "cbr = plt.colorbar(cmap=sns.color_palette(\"light:#5A9\", as_cmap=True))\n",
    "\n",
    "cbr.set_label('Player 1 Win Probability',  labelpad=15)\n",
    "plt.xticks([0,23])\n",
    "plt.yticks([0,23])\n",
    "colour = 'darkturquoise'\n",
    "plt.axvline(x=11.5, color=colour)\n",
    "plt.axhline(y=11.5, color=colour)\n",
    "textloc = [1, 5, 13.5, 17]\n",
    "textsize = 13\n",
    "plt.text(textloc[0], textloc[1], 'P1: SimplePG', color=colour).set_size(textsize)\n",
    "plt.text(textloc[0], textloc[1]+2, 'P2: SimplePG', color=colour).set_size(textsize)\n",
    "plt.text(textloc[2], textloc[1], 'P1: Leader', color=colour).set_size(textsize)\n",
    "plt.text(textloc[2], textloc[1]+2, 'P2: SimplePG', color=colour).set_size(textsize)\n",
    "plt.text(textloc[0], textloc[3], 'P1: SimplePG', color=colour).set_size(textsize)\n",
    "plt.text(textloc[0], textloc[3]+2, 'P2: Follower', color=colour).set_size(textsize)\n",
    "plt.text(textloc[2], textloc[3], 'P1: Leader', color=colour).set_size(textsize)\n",
    "plt.text(textloc[2], textloc[3]+2, 'P2: Follower', color=colour).set_size(textsize)"
   ]
  },
  {
   "cell_type": "code",
   "execution_count": null,
   "metadata": {},
   "outputs": [],
   "source": [
    "mean_matrix = np.mean(game_matrix, axis=1)\n",
    "plt.plot(range(len(mean_matrix)), mean_matrix)\n",
    "\n",
    "plt.ylim([0,1])\n",
    "plt.ylabel(\"Player 1 Win Probability\")\n",
    "plt.xlabel(\"Player 1\")\n",
    "plt.title(\"Mean Player 1 Win Probabilities\")\n",
    "trans_game_matrix = game_matrix.transpose()\n",
    "print('mean simp v simp:', np.mean(trans_game_matrix[0:12, 0:12]))\n",
    "print('mean leader v simp:',np.mean(trans_game_matrix[0:12, 12:24]))\n",
    "print('mean simp v follower:', np.mean(trans_game_matrix[12:24, 0:12]))\n",
    "print('mean leader v follower:', np.mean(trans_game_matrix[12:24, 12:24]))"
   ]
  },
  {
   "cell_type": "code",
   "execution_count": null,
   "metadata": {},
   "outputs": [],
   "source": [
    "pklfile = \"gridRandAgent2.pkl\"\n",
    "file_name = \"C:/Users/drago/OneDrive - UW/Ratliff Research/tournaments/\" + pklfile\n",
    "with open(file_name,'rb') as f:\n",
    "    out = pickle.load(f)\n",
    "    \n",
    "players = dict()\n",
    "\n",
    "for o in out:\n",
    "    for p in o.keys():\n",
    "        if p not in players:\n",
    "            players[p] = len(players)\n",
    "\n",
    "n = len(players)\n",
    "game_matrix = np.zeros((n,n))\n",
    "\n",
    "for o in out:\n",
    "    for p1 in o.keys():\n",
    "        for p2 in o[p1].keys():\n",
    "            idx1 = players[p1]\n",
    "            idx2 = players[p2]\n",
    "            \n",
    "            rews = np.array(o[p1][p2])\n",
    "            win_prob = (rews[:,0]>0).mean()\n",
    "            game_matrix[idx1][idx2] = win_prob\n",
    "\n",
    "sns.color_palette()\n",
    "plt.grid(False)\n",
    "plt.imshow(game_matrix.transpose(), vmin=0, vmax=1)\n",
    "plt.xlabel('Player 1')\n",
    "plt.ylabel('Player 2')\n",
    "cbr = plt.colorbar()\n",
    "\n",
    "cbr.set_label('Player 1 Win Probability',  labelpad=15)\n",
    "plt.xticks([0,23])\n",
    "plt.yticks([0,23])\n",
    "colour = 'darkturquoise'\n",
    "plt.axvline(x=11.5, color=colour)\n",
    "plt.axhline(y=11.5, color=colour)\n",
    "textloc = [1, 5, 14, 17]\n",
    "textsize = 13\n",
    "plt.text(textloc[0], textloc[1], 'P1: SimplePG', color=colour).set_size(textsize)\n",
    "plt.text(textloc[0], textloc[1]+2, 'P2: Random', color=colour).set_size(textsize)\n",
    "plt.text(textloc[2], textloc[1], 'P1: Leader', color=colour).set_size(textsize)\n",
    "plt.text(textloc[2], textloc[1]+2, 'P2: Random', color=colour).set_size(textsize)\n",
    "plt.text(textloc[0], textloc[3], 'P1: SimplePG', color=colour).set_size(textsize)\n",
    "plt.text(textloc[0], textloc[3]+2, 'P2: Random', color=colour).set_size(textsize)\n",
    "plt.text(textloc[2], textloc[3], 'P1: Leader', color=colour).set_size(textsize)\n",
    "plt.text(textloc[2], textloc[3]+2, 'P2: Random', color=colour).set_size(textsize)"
   ]
  },
  {
   "cell_type": "code",
   "execution_count": null,
   "metadata": {},
   "outputs": [],
   "source": [
    "trans_game_matrix = game_matrix.transpose()\n",
    "print('mean simp v random:', np.mean(trans_game_matrix[0:12, 0:12]))\n",
    "print('mean leader v random:',np.mean(trans_game_matrix[0:12, 12:24]))\n",
    "print('mean simp v random:', np.mean(trans_game_matrix[12:24, 0:12]))\n",
    "print('mean leader v random:', np.mean(trans_game_matrix[12:24, 12:24]))"
   ]
  },
  {
   "cell_type": "code",
   "execution_count": null,
   "metadata": {},
   "outputs": [],
   "source": [
    "# Input Tournament Data File\n",
    "pklfile = \"gridRandAgent1.pkl\"\n",
    "file_name = \"C:/Users/drago/OneDrive - UW/Ratliff Research/tournaments/\" + pklfile\n",
    "\n",
    "with open(file_name,'rb') as f:\n",
    "    out = pickle.load(f)\n",
    "    \n",
    "players = dict()\n",
    "\n",
    "for o in out:\n",
    "    for p in o.keys():\n",
    "        if p not in players:\n",
    "            players[p] = len(players)\n",
    "\n",
    "n = len(players)\n",
    "game_matrix2 = np.zeros((n,n))\n",
    "\n",
    "for o in out:\n",
    "    for p1 in o.keys():\n",
    "        for p2 in o[p1].keys():\n",
    "            idx1 = players[p1]\n",
    "            idx2 = players[p2]\n",
    "            \n",
    "            rews = np.array(o[p1][p2])\n",
    "            win_prob = (rews[:,0]>0).mean()\n",
    "            game_matrix2[idx1][idx2] = win_prob\n",
    "plt.grid(False)\n",
    "plt.imshow(game_matrix2.transpose(), vmin=0, vmax=1)\n",
    "plt.xlabel('Player 1')\n",
    "plt.ylabel('Player 2')\n",
    "colour = 'darkturquoise'\n",
    "plt.xticks([0,23])\n",
    "plt.yticks([0,23])\n",
    "\n",
    "plt.axvline(x=11.5, color=colour)\n",
    "plt.axhline(y=11.5, color=colour)\n",
    "textloc = [1, 5, 14, 17]\n",
    "textsize = 13\n",
    "plt.text(textloc[0], textloc[1], 'P1: Random', color=colour).set_size(textsize)\n",
    "plt.text(textloc[0], textloc[1]+2, 'P2: SimplePG', color=colour).set_size(textsize)\n",
    "plt.text(textloc[2], textloc[1], 'P1: Random', color=colour).set_size(textsize)\n",
    "plt.text(textloc[2], textloc[1]+2, 'P2: SimplePG', color=colour).set_size(textsize)\n",
    "plt.text(textloc[0], textloc[3], 'P1: Random', color=colour).set_size(textsize)\n",
    "plt.text(textloc[0], textloc[3]+2, 'P2: Follower', color=colour).set_size(textsize)\n",
    "plt.text(textloc[2], textloc[3], 'P1: Random', color=colour).set_size(textsize)\n",
    "plt.text(textloc[2], textloc[3]+2, 'P2: Follower', color=colour).set_size(textsize)\n",
    "cbr = plt.colorbar()\n",
    "cbr.set_label('Player 1 Win Probability',  labelpad=15)"
   ]
  },
  {
   "cell_type": "code",
   "execution_count": null,
   "metadata": {},
   "outputs": [],
   "source": [
    "trans_game_matrix = game_matrix2.transpose()\n",
    "print('mean random v simp:', np.mean(trans_game_matrix[0:12, 0:12]))\n",
    "print('mean random v simp:',np.mean(trans_game_matrix[0:12, 12:24]))\n",
    "print('mean random v follower:', np.mean(trans_game_matrix[12:24, 0:12]))\n",
    "print('mean random v follower:', np.mean(trans_game_matrix[12:24, 12:24]))"
   ]
  },
  {
   "cell_type": "code",
   "execution_count": null,
   "metadata": {},
   "outputs": [],
   "source": [
    "quad1 = game_matrix[0:12, 0:12]\n",
    "quad2 = game_matrix2[12:24, 0:12]\n",
    "quad3 = game_matrix2[12:24, 12:24]\n",
    "quad4 = game_matrix[12:24, 0:12]\n",
    "half1 = np.vstack((quad1, quad2))\n",
    "half2 = np.vstack((quad3, quad4))\n",
    "rand_game_matrix = np.hstack((half1, half2))\n",
    "plt.grid(False)\n",
    "plt.imshow(rand_game_matrix.transpose(), vmin=0, vmax=1)\n",
    "plt.xlabel('Player 1')\n",
    "plt.ylabel('Player 2')\n",
    "colour = 'darkturquoise'\n",
    "plt.xticks([0,23])\n",
    "plt.yticks([0,23]) \n",
    "plt.axvline(x=11.5, color=colour)\n",
    "plt.axhline(y=11.5, color=colour)\n",
    "textloc = [1, 5, 13, 17]\n",
    "textsize = 13\n",
    "plt.text(textloc[0], textloc[1], 'P1: SimplePG', color=colour).set_size(textsize)\n",
    "plt.text(textloc[0], textloc[1]+2, 'P2: Random', color=colour).set_size(textsize)\n",
    "\n",
    "plt.text(textloc[2], textloc[1], 'P1: Random', color=colour).set_size(textsize)\n",
    "plt.text(textloc[2], textloc[1]+2, 'P2: SimplePG', color=colour).set_size(textsize)\n",
    "\n",
    "plt.text(textloc[0], textloc[3], 'P1: Random', color=colour).set_size(textsize)\n",
    "plt.text(textloc[0], textloc[3]+2, 'P2: Follower', color=colour).set_size(textsize)\n",
    "\n",
    "plt.text(textloc[2], textloc[3], 'P1: Leader', color=colour).set_size(textsize)\n",
    "plt.text(textloc[2], textloc[3]+2, 'P2: Random', color=colour).set_size(textsize)\n",
    "\n",
    "cbr = plt.colorbar()\n",
    "cbr.set_label('Player 1 Win Probability',  labelpad=15)"
   ]
  },
  {
   "cell_type": "code",
   "execution_count": null,
   "metadata": {},
   "outputs": [],
   "source": [
    "# Input Tournament Data File\n",
    "pklfile = \"gridRandRand.pkl\"\n",
    "file_name = \"C:/Users/drago/OneDrive - UW/Ratliff Research/tournaments/\" + pklfile\n",
    "\n",
    "with open(file_name,'rb') as f:\n",
    "    out = pickle.load(f)\n",
    "    \n",
    "players = dict()\n",
    "\n",
    "for o in out:\n",
    "    for p in o.keys():\n",
    "        if p not in players:\n",
    "            players[p] = len(players)\n",
    "\n",
    "n = len(players)\n",
    "game_matrix3 = np.zeros((n,n))\n",
    "\n",
    "for o in out:\n",
    "    for p1 in o.keys():\n",
    "        for p2 in o[p1].keys():\n",
    "            idx1 = players[p1]\n",
    "            idx2 = players[p2]\n",
    "            \n",
    "            rews = np.array(o[p1][p2])\n",
    "            win_prob = (rews[:,0]>0).mean()\n",
    "            game_matrix3[idx1][idx2] = win_prob\n",
    "plt.grid(False)\n",
    "plt.imshow(game_matrix3.transpose(), vmin=0, vmax=1)\n",
    "plt.xlabel('Player 1')\n",
    "plt.ylabel('Player 2')\n",
    "colour = 'darkturquoise'\n",
    "plt.xticks([0,23])\n",
    "plt.yticks([0,23])\n",
    "\n",
    "plt.axvline(x=11.5, color=colour)\n",
    "plt.axhline(y=11.5, color=colour)\n",
    "textloc = [1, 5, 14, 17]\n",
    "textsize = 13\n",
    "plt.text(textloc[0], textloc[1], 'P1: Random', color=colour).set_size(textsize)\n",
    "plt.text(textloc[0], textloc[1]+2, 'P2: Random', color=colour).set_size(textsize)\n",
    "plt.text(textloc[2], textloc[1], 'P1: Random', color=colour).set_size(textsize)\n",
    "plt.text(textloc[2], textloc[1]+2, 'P2: Random', color=colour).set_size(textsize)\n",
    "plt.text(textloc[0], textloc[3], 'P1: Random', color=colour).set_size(textsize)\n",
    "plt.text(textloc[0], textloc[3]+2, 'P2: Random', color=colour).set_size(textsize)\n",
    "plt.text(textloc[2], textloc[3], 'P1: Random', color=colour).set_size(textsize)\n",
    "plt.text(textloc[2], textloc[3]+2, 'P2: Random', color=colour).set_size(textsize)\n",
    "cbr = plt.colorbar()\n",
    "cbr.set_label('Player 1 Win Probability',  labelpad=15)"
   ]
  },
  {
   "cell_type": "code",
   "execution_count": null,
   "metadata": {},
   "outputs": [],
   "source": [
    "mean_matrix = np.mean(game_matrix3, axis=1)\n",
    "plt.plot(range(len(mean_matrix)), mean_matrix)\n",
    "\n",
    "plt.ylim([0,1])\n",
    "plt.ylabel(\"Player 1 Win Probability\")\n",
    "plt.xlabel(\"Player 1\")\n",
    "plt.title(\"Mean Player 1 Win Probabilities\")\n",
    "trans_game_matrix = game_matrix3.transpose()\n",
    "print('mean random v random', np.mean(trans_game_matrix))"
   ]
  },
  {
   "cell_type": "code",
   "execution_count": 256,
   "metadata": {},
   "outputs": [
    {
     "name": "stdout",
     "output_type": "stream",
     "text": [
      "2\n",
      "[1 1]\n"
     ]
    }
   ],
   "source": [
    "test = np.empty_like([1,1], dtype=int)\n",
    "print(len(test))\n",
    "print(test)"
   ]
  },
  {
   "cell_type": "code",
   "execution_count": 258,
   "metadata": {},
   "outputs": [
    {
     "name": "stdout",
     "output_type": "stream",
     "text": [
      "[1. 0. 0. 0. 0. 0. 0. 0. 0. 0. 0. 0. 0. 0. 0. 1. 0. 0. 0. 0. 0. 0. 1. 0.\n",
      " 0. 0. 0. 1. 0. 0. 0. 0. 0. 0. 0. 0.]\n"
     ]
    }
   ],
   "source": [
    "test = np.zeros((4,9))\n",
    "test[0][0] = 1\n",
    "test[1][5+1] = 1\n",
    "test[2][3+1] = 1\n",
    "test[3][0] = 1\n",
    "test.flatten()\n",
    "print(test.flatten())"
   ]
  },
  {
   "cell_type": "code",
   "execution_count": null,
   "metadata": {},
   "outputs": [],
   "source": []
  }
 ],
 "metadata": {
  "kernelspec": {
   "display_name": "Python 3",
   "language": "python",
   "name": "python3"
  },
  "language_info": {
   "codemirror_mode": {
    "name": "ipython",
    "version": 3
   },
   "file_extension": ".py",
   "mimetype": "text/x-python",
   "name": "python",
   "nbconvert_exporter": "python",
   "pygments_lexer": "ipython3",
   "version": "3.7.11"
  }
 },
 "nbformat": 4,
 "nbformat_minor": 2
}
