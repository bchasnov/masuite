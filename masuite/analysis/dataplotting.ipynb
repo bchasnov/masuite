{
 "cells": [
  {
   "cell_type": "markdown",
   "metadata": {},
   "source": [
    "# Data Plotting Functions\n",
    "\n",
    "Given the axes, algorithm, epoch, batch_size, lr, and nnsize, return a graph. Unless given a 'title=' the default title is simulated by given parameters, and if that doesn't work then it's 'ABC'. To have labels at the locations of convergence with a text box near it describing the (x,y) coords, you can add conv_label=True. The graph will have a legend [Agent0, Agent1]. The data type accepted are either returns or loss. The y-label and x-labels are automatically simulated. The plot is using seaborn."
   ]
  },
  {
   "cell_type": "code",
   "execution_count": 1,
   "metadata": {},
   "outputs": [],
   "source": [
    "import numpy as np\n",
    "import seaborn as sns\n",
    "import pandas as pd\n",
    "from pandas import DataFrame as df\n",
    "import matplotlib.pyplot as plt\n",
    "from collections import Counter\n",
    "\n",
    "%matplotlib inline\n",
    "\n",
    "sns.set()"
   ]
  },
  {
   "cell_type": "markdown",
   "metadata": {},
   "source": [
    "### Helper Functions"
   ]
  },
  {
   "cell_type": "code",
   "execution_count": 6,
   "metadata": {},
   "outputs": [],
   "source": [
    "# Get DataFrame from csv files\n",
    "def df_data(algo, epoch, batch_size, lr, nnsize):\n",
    "    fname = algo + \"-smallsoccer-0_epochs\" + str(epoch) + \"_batch_size\" + str(batch_size) + \"_lr\" + str(lr) + \"_hidden_sizes\" + nnsize + \"_.csv\"\n",
    "    file_name = \"C:/Users/drago/OneDrive - UW/Ratliff Research/soccergrid_data/smallsoccer0-gridsearch\"+ fname\n",
    "    simple_data = pd.read_csv(file_name)\n",
    "    return simple_data\n",
    "\n",
    "# Find mode when converging returns, and return x,y coord\n",
    "def converge_find(data):\n",
    "    y = Counter(data).most_common(1)[0][0]\n",
    "    for i in np.arange(0,len(data)):\n",
    "        ytest = data[i]\n",
    "        if (y == ytest):\n",
    "            x = i\n",
    "            break\n",
    "    return x,y\n",
    "\n",
    "# Given what is graphed return an appropriate xlabel (for now only epoch?)\n",
    "def get_xlabel():\n",
    "    xlabel = 'Epochs'\n",
    "    return xlabel\n",
    "\n",
    "# Given what is graphed return an appropriate ylabel\n",
    "def get_ylabel(y_df):\n",
    "    columns = y_df.columns\n",
    "    if ('avg_rets' in y_df.columns[0]):\n",
    "        ylabel = 'Average Returns'\n",
    "    elif ('loss' in y_df.columns[0]):\n",
    "        ylabel = 'Loss'\n",
    "    elif ('grad_norms' in y_df.columns[0]):\n",
    "        ylabel = 'Gradient Norms'\n",
    "    else:\n",
    "        ylabel = 'Not Found'\n",
    "    return ylabel\n",
    "\n",
    "# Given what is graphed return an appropriate title\n",
    "def get_title(y_df, algo, epoch, batch_size, lr, nnsize):\n",
    "    title = algo + ' agent0 vs agent1 ' + get_ylabel(y_df) + ' (ep =' + str(epoch) + ' bs = ' + str(batch_size) + ' lr = ' + str(lr) + 'nnsize = ' + nnsize + ')'\n",
    "    return title\n",
    "    \n",
    "# Given string list of gradient norms, return float list of grad_norms and RSS for grads         \n",
    "def grad_norms_to_float(grad_array):\n",
    "    grad_array = grad_array.strip('][').split(', ')\n",
    "    for i in np.arange(0,len(grad_array)):\n",
    "        grad_array[i] = float(grad_array[i])\n",
    "    root_sum_square = np.sqrt(sum([i**2 for i in grad_array]))\n",
    "    return grad_array, root_sum_square"
   ]
  },
  {
   "cell_type": "markdown",
   "metadata": {},
   "source": [
    "### Main Plotting Function"
   ]
  },
  {
   "cell_type": "code",
   "execution_count": 7,
   "metadata": {},
   "outputs": [],
   "source": [
    "# Given parameters plot graph\n",
    "def data_plot(fig, ax, algo, epoch, batch_size, lr, nnsize, data,  title='ABC', conv_label=False, figsize=[9, 4]):\n",
    "    simple_data = df_data(algo, epoch, batch_size, lr, nnsize)\n",
    "    \n",
    "    # Plot\n",
    "    if ('returns' in data):\n",
    "        data1 = 'agent0_avg_rets'\n",
    "        data2 = 'agent1_avg_rets'\n",
    "    elif ('loss' in data):\n",
    "        data1 = 'agent0_loss'\n",
    "        data2 = 'agent1_loss'\n",
    "    y_df = simple_data[[data1, data2]]\n",
    "    y = df.to_numpy(y_df)\n",
    "    x = np.arange(0,len(y))\n",
    "    fig.set_size_inches(figsize)\n",
    "    ax.plot(x, y[:,0], color='r')\n",
    "    ax.plot(x, y[:,1], color='b')\n",
    "    \n",
    "    # Plot convergence location + label\n",
    "    if (conv_label):\n",
    "        x_mode1, y_mode1 = converge_find(y[:,0])\n",
    "        x_mode2, y_mode2 = converge_find(y[:,1])\n",
    "        if (x_mode1 !=0):\n",
    "            ax.plot(x_mode1, y_mode1, 'go')\n",
    "            ax.text(x_mode1 + 8, y_mode2 + 10, 'x = '+ str(x_mode1) + ' y = '\n",
    "                     + str(round(y_mode1)), horizontalalignment='center',\n",
    "                     backgroundcolor=(1,1,1,0.7))\n",
    "        if (x_mode2 != 0):\n",
    "            ax.plot(x_mode2, y_mode2, 'go')\n",
    "            ax.text(x_mode2 + 5, y_mode2 - 7, 'x = '+ str(x_mode2) + ' y = '\n",
    "                     + str(round(y_mode2)), horizontalalignment='center',\n",
    "                     backgroundcolor=(1,1,1,0.7))\n",
    "    \n",
    "    # Set Title, Xlabel, Ylabel, Legend \n",
    "    ax.set_xlim([0, epoch])\n",
    "    ax.set_xlabel(get_xlabel())\n",
    "    ax.set_ylabel(get_ylabel(y_df))\n",
    "    if ('ABC' not in title):\n",
    "        ax.set_title(title)\n",
    "    else:\n",
    "        ax.set_title(get_title(y_df, algo, epoch, batch_size, lr, nnsize))\n",
    "    ax.legend(['Agent 0', 'Agent 1'])\n",
    "    return 0"
   ]
  },
  {
   "cell_type": "markdown",
   "metadata": {},
   "source": [
    "### Extra Plotting Functions"
   ]
  },
  {
   "cell_type": "code",
   "execution_count": null,
   "metadata": {},
   "outputs": [],
   "source": [
    "# Plot all of one datatype onto one graph\n",
    "def all_data_plot(algo, epochs, batch_sizes, lrs, nnsizes, studies, figsize=[9,4]):\n",
    "    fig, ax = plt.subplots()\n",
    "    for epoch in epochs:\n",
    "        for batch in batch_sizes:\n",
    "            for lr in lrs:\n",
    "                for nnsize in nnsizes:\n",
    "                    for study in studies:\n",
    "                        data_plot(fig, ax, algo, epoch, batch, lr, nnsize, study, figsize=figsize)\n",
    "\n",
    "# Given the arrays of possible epochs, batch_sizes, lr, studies, return a map of all data\n",
    "def all_data_map_plot(algos, epochs, batchs_sizes, lrs, nnsizes, studies):\n",
    "    fig, ax = plt.subplots(2, 2, figsize=figsize, constrained_layout=True) # 2 Algos, 2 Studies (Returns + Losses)\n",
    "    algo_count = -1\n",
    "    study_count = -1\n",
    "    for algo in algos:\n",
    "        algo_count +=1\n",
    "        if (study_count == 1):\n",
    "            study_count = -1\n",
    "        for study in studies:\n",
    "            study_count += 1\n",
    "            for epoch in epochs:\n",
    "                for batch in batch_sizes:\n",
    "                    for lr in lrs:\n",
    "                        for nnsize in nnsizes:\n",
    "                            data_plot(fig, ax[algo_count,study_count], algo, epoch, batch, lr, nnsize, study, title= algo + ' ' + study)\n"
   ]
  }
 ],
 "metadata": {
  "kernelspec": {
   "display_name": "Python 3",
   "language": "python",
   "name": "python3"
  },
  "language_info": {
   "codemirror_mode": {
    "name": "ipython",
    "version": 3
   },
   "file_extension": ".py",
   "mimetype": "text/x-python",
   "name": "python",
   "nbconvert_exporter": "python",
   "pygments_lexer": "ipython3",
   "version": "3.7.4"
  }
 },
 "nbformat": 4,
 "nbformat_minor": 2
}
