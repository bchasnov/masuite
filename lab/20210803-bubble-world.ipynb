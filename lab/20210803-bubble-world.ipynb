{
 "cells": [
  {
   "cell_type": "markdown",
   "metadata": {},
   "source": [
    "## Continuous action and state models:\n",
    "\n",
    "### Point mass model\n",
    "Continuous time:\n",
    "$$ \\begin{aligned}\n",
    "\\dot x = v_x,\\\\ \n",
    "\\dot y = v_y,\\\\ \n",
    "\\dot v_x = a_x,\\\\ \n",
    "\\dot v_y = a_y,\\\\ \n",
    "\\end{aligned}$$\n",
    "\n",
    "Discrete time:\n",
    "$$ \\begin{aligned}\n",
    "x(t+1) &= x(t) + \\gamma v_x(t)\\\\\n",
    "y(t+1) &= y(t) + \\gamma v_y(t)\\\\\n",
    "v_x(t+1) &= v_x(t) + \\gamma a_x(t)\\\\\n",
    "v_y(t+1) &= v_y(t) + \\gamma a_y(t)\\\\\n",
    "\\end{aligned}$$\n",
    "\n",
    "### Unicycle model\n",
    "Continuous time:\n",
    "$$ \\begin{aligned}\n",
    "\\dot x = v \\sin(\\theta),\\\\\n",
    "\\dot y = v \\cos(\\theta),\\\\ \n",
    "\\dot v = a,\\\\ \n",
    "\\dot \\theta = \\omega\n",
    "\\end{aligned}$$\n",
    "\n",
    "Discrete time:\n",
    "$$ \\begin{aligned}\n",
    "x(t+1) &= x(t) + \\gamma v(t) \\sin(\\theta(t)),\\\\\n",
    "y(t+1) &= y(t) + \\gamma v(t) \\cos(\\theta(t)),\\\\\n",
    "v(t+1) &= v(t) + \\gamma a(t),\\\\\n",
    "\\theta(t+1) &= \\theta(t) + \\gamma\\omega(t),\\\\\n",
    "\\end{aligned}$$\n",
    "for stepsize $\\gamma > 0$\n"
   ]
  },
  {
   "cell_type": "code",
   "execution_count": 1,
   "metadata": {},
   "outputs": [
    {
     "data": {
      "text/plain": [
       "<matplotlib.legend.Legend at 0x7fb1811e41d0>"
      ]
     },
     "execution_count": 1,
     "metadata": {},
     "output_type": "execute_result"
    }
   ],
   "source": [
    "import numpy as np\n",
    "import matplotlib.pyplot as plt\n",
    "\n",
    "def step_pointmass(state, action, step_size=0.1):\n",
    "    x,y,vx,vy = state\n",
    "    ax,ay = action\n",
    "    \n",
    "    x_next = x + step_size * vx\n",
    "    y_next = y + step_size * vy\n",
    "    \n",
    "    vx_next = vx + step_size * ax\n",
    "    vy_next = vy + step_size * ay\n",
    "    \n",
    "    return (x_next, y_next, vx_next, vy_next)\n",
    "\n",
    "def reset_pointmass(x,y,vx,vy):\n",
    "    return (x,y,vx,vy)\n",
    "\n",
    "def saturate_vel_pointmass(state, sat):\n",
    "    x,y,vx,vy = state\n",
    "    v = np.sqrt(vx**2 + vy**2)\n",
    "    b = v>sat\n",
    "    s = np.nansum([(1-b), b*sat/v], axis=0)\n",
    "    return x,y,vx*s,vy*s\n",
    "    \n",
    "def step_unicycle(state, action, step_size=0.1):\n",
    "    x,y,v,t = state\n",
    "    w,a = action\n",
    "    x_next = x + step_size * v * np.sin(t)\n",
    "    y_next = y + step_size * v * np.cos(t)\n",
    "    v_next = v + step_size * a\n",
    "    t_next = t + step_size * w\n",
    "    t_next = np.mod(t_next+np.pi, 2*np.pi)-np.pi\n",
    "    \n",
    "    state_next = (x_next, y_next, v_next, t_next)\n",
    "    \n",
    "    return state_next\n",
    "    \n",
    "def reset_unicycle(x,y,v,theta):\n",
    "    state = (x,y,v,theta)\n",
    "    return state\n",
    "\n",
    "def saturate_vel_unicycle(state, sat):\n",
    "    x,y,v,t = state\n",
    "    b = v<sat\n",
    "    s = b*v + (1-b)*sat\n",
    "    return x,y,s,t\n",
    "\n",
    "\n",
    "\"\"\" Simulate pointmass \"\"\"\n",
    "T = 100\n",
    "states = np.zeros((T,4))\n",
    "states[0] = reset_pointmass(x=0,y=0,vx=0,vy=0)\n",
    "max_vel =  0.5\n",
    "for t in range(T-1):\n",
    "    action = (0.1,0.1)\n",
    "    state = step_pointmass(states[t], action)\n",
    "    state = saturate_vel_pointmass(state, max_vel)\n",
    "    states[t+1] = state\n",
    "    \n",
    "plt.plot(states) \n",
    "plt.legend(['x','y','vx','vy'])\n",
    "\n",
    "\n",
    "\"\"\" Simulate unicycle \"\"\"\n",
    "T = 100\n",
    "states = np.zeros((T,4))\n",
    "states[0] = reset_unicycle(x=0,y=0,v=0,theta=0)\n",
    "max_vel = 0.5\n",
    "for t in range(T-1):\n",
    "    action = (0.1,0.1)\n",
    "    state = step_unicycle(states[t], action)\n",
    "    state = saturate_vel_unicycle(state, max_vel)\n",
    "    states[t+1] = state\n",
    "    \n",
    "plt.figure()\n",
    "plt.plot(states)\n",
    "plt.legend(['x','y','v','theta'])"
   ]
  },
  {
   "cell_type": "markdown",
   "metadata": {},
   "source": [
    "## Pursuit evasion model"
   ]
  },
  {
   "cell_type": "code",
   "execution_count": 2,
   "metadata": {},
   "outputs": [
    {
     "name": "stderr",
     "output_type": "stream",
     "text": [
      "/Users/ben/anaconda3/lib/python3.5/site-packages/ipykernel/__main__.py:23: RuntimeWarning: invalid value encountered in double_scalars\n"
     ]
    },
    {
     "data": {
      "text/plain": [
       "(((-0.7157664929906005, 0.032818598823320055, 0.0, 0.0),\n",
       "  (0.18493184415072106, -0.9612833783666945, 0.0, -0.01825644748915156),\n",
       "  (0.9286474095754902, -0.918548165829215, 0.0, 2.2472599798360813)),\n",
       " (0, 0, 0),\n",
       " False,\n",
       " {})"
      ]
     },
     "execution_count": 2,
     "metadata": {},
     "output_type": "execute_result"
    }
   ],
   "source": [
    "def dist_sq(state1, state2):\n",
    "    x1,y1,_,_ = state1\n",
    "    x2,y2,_,_ = state2\n",
    "    return (x1-x2)**2 + (y1-y2)**2\n",
    "\n",
    "class PursuitEvasion001:\n",
    "    def __init__(self):\n",
    "        self.num_pursuers = 2\n",
    "        self.num_evaders = 1\n",
    "        \n",
    "        self.vel_pursuer = 0.5\n",
    "        self.vel_evader = 1.\n",
    "        \n",
    "        self.capture_radius = 0.1\n",
    "        \n",
    "    def step(self, act):\n",
    "        act1, act2, act3 = act\n",
    "        \n",
    "        state1 = step_pointmass(self.states[0],  act1)\n",
    "        state2 = step_unicycle(self.states[1],  act2)\n",
    "        state3 = step_unicycle(self.states[2],  act3)\n",
    "        \n",
    "        state1 = saturate_vel_pointmass(state1, self.vel_evader)\n",
    "        state2 = saturate_vel_unicycle(state2, self.vel_pursuer)\n",
    "        state3 = saturate_vel_unicycle(state3, self.vel_pursuer)\n",
    "        \n",
    "        cap2 = (dist_sq(state1,state2) < self.capture_radius**2)*1\n",
    "        cap3 = (dist_sq(state1,state3) < self.capture_radius**2)*1\n",
    "        \n",
    "        rews = (-cap2-cap3, cap2, cap3)\n",
    "        done = cap2+cap3>1\n",
    "        \n",
    "        self.states = (state1, state2, state3)\n",
    "        return self.states, rews, done, {}\n",
    "        \n",
    "    \n",
    "    def reset(self):\n",
    "        xs = np.random.uniform(-1,1,3)\n",
    "        ys = np.random.uniform(-1,1,3)\n",
    "        thetas = np.random.uniform(-np.pi,np.pi,2)\n",
    "        \n",
    "        state1 = reset_pointmass(x=xs[0], y=ys[0], vx=0, vy=0)\n",
    "        state2 = reset_unicycle(x=xs[1], y=ys[1], v=0, theta=thetas[0])\n",
    "        state3 = reset_unicycle(x=xs[2], y=ys[2], v=0, theta=thetas[1])\n",
    "        \n",
    "        self.states = (state1, state2, state3)\n",
    "\n",
    "peg = PursuitEvasion001()\n",
    "peg.reset()\n",
    "\n",
    "evader_velx_act = 0\n",
    "evader_vely_act = 0\n",
    "\n",
    "pursuer1_vel_act = 0\n",
    "pursuer1_theta_act = 0\n",
    "\n",
    "pursuer2_vel_act = 0\n",
    "pursuer2_theta_act = 0\n",
    "\n",
    "acts = ((evader_velx_act, evader_vely_act),\n",
    "        (pursuer1_vel_act, pursuer1_theta_act),\n",
    "        (pursuer2_vel_act, pursuer2_theta_act))\n",
    "\n",
    "peg.step(acts)"
   ]
  },
  {
   "cell_type": "code",
   "execution_count": 3,
   "metadata": {},
   "outputs": [
    {
     "data": {
      "text/plain": [
       "(array([0., 0., 0., 0., 0.]),\n",
       " array([0., 0., 0., 0., 0.]),\n",
       " array([0.07071068, 0.07071068, 0.07071068, 0.07071068, 0.07071068]),\n",
       " array([0.07071068, 0.07071068, 0.07071068, 0.07071068, 0.07071068]))"
      ]
     },
     "execution_count": 3,
     "metadata": {},
     "output_type": "execute_result"
    }
   ],
   "source": [
    "# BATCH EXPERIMENTS\n",
    "xs = np.zeros(5)\n",
    "ys = np.zeros(5)\n",
    "vxs = np.ones(5)\n",
    "vys = np.ones(5)\n",
    "acts = np.zeros((2,5))\n",
    "state1 = reset_pointmass(x=xs, y=ys, vx=vxs,vy=vys)\n",
    "step_pointmass(state1, acts)\n",
    "saturate_vel_pointmass(state1, 0.1)"
   ]
  }
 ],
 "metadata": {
  "kernelspec": {
   "display_name": "Python [default]",
   "language": "python",
   "name": "python3"
  },
  "language_info": {
   "codemirror_mode": {
    "name": "ipython",
    "version": 3
   },
   "file_extension": ".py",
   "mimetype": "text/x-python",
   "name": "python",
   "nbconvert_exporter": "python",
   "pygments_lexer": "ipython3",
   "version": "3.5.6"
  }
 },
 "nbformat": 4,
 "nbformat_minor": 2
}
