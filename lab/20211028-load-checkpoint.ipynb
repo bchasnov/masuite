{
 "cells": [
  {
   "cell_type": "code",
   "execution_count": 2,
   "metadata": {},
   "outputs": [],
   "source": [
    "import torch\n",
    "import masuite\n",
    "import numpy as np\n",
    "import matplotlib.pyplot as plt"
   ]
  },
  {
   "cell_type": "code",
   "execution_count": 9,
   "metadata": {},
   "outputs": [
    {
     "name": "stdout",
     "output_type": "stream",
     "text": [
      "Loaded masuite_id: soccer/0.\n"
     ]
    },
    {
     "data": {
      "text/plain": [
       "(array([33.,  8.,  6.,  3.,  1.,  2.,  5., 10.,  6., 26.]),\n",
       " array([-9.00000000e-01, -7.20000000e-01, -5.40000000e-01, -3.60000000e-01,\n",
       "        -1.80000000e-01, -1.11022302e-16,  1.80000000e-01,  3.60000000e-01,\n",
       "         5.40000000e-01,  7.20000000e-01,  9.00000000e-01]),\n",
       " <BarContainer object of 10 artists>)"
      ]
     },
     "execution_count": 9,
     "metadata": {},
     "output_type": "execute_result"
    },
    {
     "data": {
      "image/png": "[encoded data removed]",
      "text/plain": [
       "<Figure size 432x288 with 1 Axes>"
      ]
     },
     "metadata": {
      "needs_background": "light"
     },
     "output_type": "display_data"
    }
   ],
   "source": [
    "#checkpoint_file = '../tmp/masuite/SimplePG-smallsoccer-0-checkpoint.pt'\n",
    "#checkpoint_file_stack = '../tmp/soccer0-gridsearch/StackPG-soccer-0_epochs100_batch_size1000_lr0.001_hidden_sizes[32]_-checkpoint.pt'\n",
    "#checkpoint_file_stack = '../tmp/soccer0-gridsearch/StackPG-soccer-0_epochs100_batch_size1000_lr0.001_hidden_sizes[64]_-checkpoint.pt'\n",
    "#checkpoint_file_simgrad = '../tmp/soccer0-gridsearch/SimplePG-soccer-0_epochs100_batch_size1000_lr0.001_hidden_sizes[64]_-checkpoint.pt'\n",
    "\n",
    "env = masuite.load_from_id('smallsoccer/0')\n",
    "agents_a = torch.load(checkpoint_file_stack)\n",
    "agents_b = torch.load(checkpoint_file_simgrad)\n",
    "\n",
    "#agents_a = torch.load(checkpoint_file_stack)\n",
    "#agents_b = torch.load(checkpoint_file_stack)\n",
    "\n",
    "def play():\n",
    "    history = []\n",
    "    obs = env.reset()\n",
    "    done = False\n",
    "    while not done:\n",
    "        act1 = agents_a[0].select_action(obs)\n",
    "        act2 = agents_b[1].select_action(obs)\n",
    "        obs, rews, done, info = env.step((act1, act2))\n",
    "        history.append([obs,rews,done,info])\n",
    "\n",
    "    return rews\n",
    "\n",
    "num = int(1e2)\n",
    "tournament = []\n",
    "for _ in range(num):\n",
    "    outcome =  play()\n",
    "    tournament.append(outcome)\n",
    "plt.hist(np.array(tournament)[:,0])"
   ]
  },
  {
   "cell_type": "code",
   "execution_count": null,
   "metadata": {},
   "outputs": [],
   "source": []
  }
 ],
 "metadata": {
  "kernelspec": {
   "display_name": "masuite",
   "language": "python",
   "name": "masuite"
  },
  "language_info": {
   "codemirror_mode": {
    "name": "ipython",
    "version": 3
   },
   "file_extension": ".py",
   "mimetype": "text/x-python",
   "name": "python",
   "nbconvert_exporter": "python",
   "pygments_lexer": "ipython3",
   "version": "3.8.3"
  }
 },
 "nbformat": 4,
 "nbformat_minor": 2
}
